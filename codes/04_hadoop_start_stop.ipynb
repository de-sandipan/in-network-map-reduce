{
 "cells": [
  {
   "cell_type": "code",
   "execution_count": null,
   "id": "8b7f638c-b42a-422c-ab62-01b39328ff4f",
   "metadata": {},
   "outputs": [],
   "source": [
    "from fabrictestbed_extensions.fablib.fablib import FablibManager as fablib_manager\n",
    "fablib = fablib_manager()"
   ]
  },
  {
   "cell_type": "code",
   "execution_count": null,
   "id": "87d0b05a-20ea-4f0d-bb9e-a006f3f5304d",
   "metadata": {},
   "outputs": [],
   "source": [
    "slice = fablib.get_slice(name=\"hadoop-cluster-mhsv\")"
   ]
  },
  {
   "cell_type": "code",
   "execution_count": null,
   "id": "750c14ae-5093-47aa-a047-dd757c918f95",
   "metadata": {},
   "outputs": [],
   "source": [
    "name_node = slice.get_node(name='svr0')"
   ]
  },
  {
   "cell_type": "code",
   "execution_count": null,
   "id": "797a340e-102e-4151-a7a6-9044004c778f",
   "metadata": {},
   "outputs": [],
   "source": [
    "name_node.execute(\"/home/ubuntu/hadoop/sbin/start-dfs.sh\")"
   ]
  },
  {
   "cell_type": "code",
   "execution_count": null,
   "id": "fbeb321d-9511-4341-9bf2-bea9e0256e89",
   "metadata": {},
   "outputs": [],
   "source": [
    "name_node.execute(\"/home/ubuntu/hadoop/sbin/start-yarn.sh\")"
   ]
  },
  {
   "cell_type": "code",
   "execution_count": null,
   "id": "49422ac7-4580-42c3-9045-e569ee5865c1",
   "metadata": {},
   "outputs": [],
   "source": [
    "name_node.execute(\"/home/ubuntu/hadoop/sbin/stop-yarn.sh\")"
   ]
  },
  {
   "cell_type": "code",
   "execution_count": null,
   "id": "99a714eb-a180-4470-9f94-5e4037863a78",
   "metadata": {},
   "outputs": [],
   "source": [
    "name_node.execute(\"/home/ubuntu/hadoop/sbin/stop-dfs.sh\")"
   ]
  }
 ],
 "metadata": {
  "kernelspec": {
   "display_name": "Python 3 (ipykernel)",
   "language": "python",
   "name": "python3"
  },
  "language_info": {
   "codemirror_mode": {
    "name": "ipython",
    "version": 3
   },
   "file_extension": ".py",
   "mimetype": "text/x-python",
   "name": "python",
   "nbconvert_exporter": "python",
   "pygments_lexer": "ipython3",
   "version": "3.10.6"
  }
 },
 "nbformat": 4,
 "nbformat_minor": 5
}
