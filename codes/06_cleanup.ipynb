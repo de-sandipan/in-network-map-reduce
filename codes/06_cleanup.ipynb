{
 "cells": [
  {
   "cell_type": "code",
   "execution_count": 1,
   "id": "ccf524d0-a21d-494d-90cf-0c603ed37f97",
   "metadata": {},
   "outputs": [],
   "source": [
    "from fabrictestbed_extensions.fablib.fablib import FablibManager as fablib_manager\n",
    "fablib = fablib_manager()"
   ]
  },
  {
   "cell_type": "code",
   "execution_count": 2,
   "id": "6b6f0e85-a0b0-4187-b8e4-cb48639b4d71",
   "metadata": {},
   "outputs": [],
   "source": [
    "# slice = fablib.get_slice(name=\"hadoop-cluster-ycos\")\n",
    "slice = fablib.get_slice(name=\"hadoop-cluster-uagw\")"
   ]
  },
  {
   "cell_type": "code",
   "execution_count": 3,
   "id": "845680f4-60de-4aaa-91d8-a24ae19665c3",
   "metadata": {},
   "outputs": [],
   "source": [
    "# from datetime import datetime\n",
    "# from datetime import timezone\n",
    "# from datetime import timedelta\n",
    "\n",
    "# end_date = (datetime.now(timezone.utc) + timedelta(days=14)).strftime(\"%Y-%m-%d %H:%M:%S %z\")\n",
    "# slice.renew(end_date)"
   ]
  },
  {
   "cell_type": "code",
   "execution_count": 4,
   "id": "658f6da0-1f75-4ac3-ad21-b197ae8afd38",
   "metadata": {},
   "outputs": [],
   "source": [
    "# slice.update()"
   ]
  },
  {
   "cell_type": "code",
   "execution_count": 5,
   "id": "e3c56b2b-56a5-4b11-8d03-65af7595fa10",
   "metadata": {},
   "outputs": [],
   "source": [
    "# slice.show()"
   ]
  },
  {
   "cell_type": "code",
   "execution_count": null,
   "id": "806e2def-c69d-4e68-bc77-0b9ee1b9a82a",
   "metadata": {},
   "outputs": [],
   "source": []
  },
  {
   "cell_type": "code",
   "execution_count": null,
   "id": "b8b9d22b-594e-43df-bedf-c4eea4a8a138",
   "metadata": {},
   "outputs": [],
   "source": []
  },
  {
   "cell_type": "code",
   "execution_count": 6,
   "id": "ad358be0-810a-47a0-8c4e-13222736a55e",
   "metadata": {},
   "outputs": [],
   "source": [
    "# slice.delete()"
   ]
  },
  {
   "cell_type": "code",
   "execution_count": 7,
   "id": "0fab8adb-92af-45ac-84b7-18736ef9dea6",
   "metadata": {},
   "outputs": [],
   "source": [
    "# slice.update()"
   ]
  },
  {
   "cell_type": "code",
   "execution_count": 8,
   "id": "5417fa8b-7bb1-4d4d-a24b-cbab49338bd2",
   "metadata": {},
   "outputs": [],
   "source": [
    "# slice.show()"
   ]
  },
  {
   "cell_type": "code",
   "execution_count": 9,
   "id": "a4a8b7a0-29fc-4358-801e-d092acc19d10",
   "metadata": {},
   "outputs": [
    {
     "name": "stdout",
     "output_type": "stream",
     "text": [
      "-----------------  --------------------------------------------------------------------------------------------------------------------------------------------\n",
      "ID                 ba1f22ff-fc05-449f-b977-93eb2cd9a1bd\n",
      "Name               svr0\n",
      "Cores              4\n",
      "RAM                8\n",
      "Disk               100\n",
      "Image              default_ubuntu_20\n",
      "Image Type         qcow2\n",
      "Host               star-w5.fabric-testbed.net\n",
      "Site               STAR\n",
      "Management IP      2001:400:a100:3030:f816:3eff:fe28:42e9\n",
      "Reservation State  Active\n",
      "Error Message\n",
      "SSH Command        ssh -i /home/fabric/work/fabric_config/slice_key -F /home/fabric/work/fabric_config/ssh_config ubuntu@2001:400:a100:3030:f816:3eff:fe28:42e9\n",
      "-----------------  --------------------------------------------------------------------------------------------------------------------------------------------\n",
      "-----------------  --------------------------------------------------------------------------------------------------------------------------------------------\n",
      "ID                 4bdf6891-1d41-43aa-bf5d-7873b66a8595\n",
      "Name               svr1\n",
      "Cores              4\n",
      "RAM                8\n",
      "Disk               100\n",
      "Image              default_ubuntu_20\n",
      "Image Type         qcow2\n",
      "Host               star-w5.fabric-testbed.net\n",
      "Site               STAR\n",
      "Management IP      2001:400:a100:3030:f816:3eff:feab:34cc\n",
      "Reservation State  Active\n",
      "Error Message\n",
      "SSH Command        ssh -i /home/fabric/work/fabric_config/slice_key -F /home/fabric/work/fabric_config/ssh_config ubuntu@2001:400:a100:3030:f816:3eff:feab:34cc\n",
      "-----------------  --------------------------------------------------------------------------------------------------------------------------------------------\n",
      "-----------------  --------------------------------------------------------------------------------------------------------------------------------------------\n",
      "ID                 ea24b5b1-906f-4889-a502-752b725e1ad6\n",
      "Name               svr2\n",
      "Cores              4\n",
      "RAM                8\n",
      "Disk               100\n",
      "Image              default_ubuntu_20\n",
      "Image Type         qcow2\n",
      "Host               star-w5.fabric-testbed.net\n",
      "Site               STAR\n",
      "Management IP      2001:400:a100:3030:f816:3eff:fe1c:cb12\n",
      "Reservation State  Active\n",
      "Error Message\n",
      "SSH Command        ssh -i /home/fabric/work/fabric_config/slice_key -F /home/fabric/work/fabric_config/ssh_config ubuntu@2001:400:a100:3030:f816:3eff:fe1c:cb12\n",
      "-----------------  --------------------------------------------------------------------------------------------------------------------------------------------\n",
      "-----------------  --------------------------------------------------------------------------------------------------------------------------------------------\n",
      "ID                 33b882cb-efea-4a12-8556-aaf643d52c14\n",
      "Name               rtr0\n",
      "Cores              4\n",
      "RAM                8\n",
      "Disk               100\n",
      "Image              default_ubuntu_20\n",
      "Image Type         qcow2\n",
      "Host               star-w5.fabric-testbed.net\n",
      "Site               STAR\n",
      "Management IP      2001:400:a100:3030:f816:3eff:fe1f:7a67\n",
      "Reservation State  Active\n",
      "Error Message\n",
      "SSH Command        ssh -i /home/fabric/work/fabric_config/slice_key -F /home/fabric/work/fabric_config/ssh_config ubuntu@2001:400:a100:3030:f816:3eff:fe1f:7a67\n",
      "-----------------  --------------------------------------------------------------------------------------------------------------------------------------------\n",
      "-----------------  --------------------------------------------------------------------------------------------------------------------------------------------\n",
      "ID                 de3acb31-8d90-49f0-9e28-a13524237f02\n",
      "Name               rtr1\n",
      "Cores              4\n",
      "RAM                8\n",
      "Disk               100\n",
      "Image              default_ubuntu_20\n",
      "Image Type         qcow2\n",
      "Host               star-w5.fabric-testbed.net\n",
      "Site               STAR\n",
      "Management IP      2001:400:a100:3030:f816:3eff:fe4f:98ac\n",
      "Reservation State  Active\n",
      "Error Message\n",
      "SSH Command        ssh -i /home/fabric/work/fabric_config/slice_key -F /home/fabric/work/fabric_config/ssh_config ubuntu@2001:400:a100:3030:f816:3eff:fe4f:98ac\n",
      "-----------------  --------------------------------------------------------------------------------------------------------------------------------------------\n",
      "-----------------  --------------------------------------------------------------------------------------------------------------------------------------------\n",
      "ID                 f7366a6b-765e-40fc-9695-2079e5561edd\n",
      "Name               rtr2\n",
      "Cores              4\n",
      "RAM                8\n",
      "Disk               100\n",
      "Image              default_ubuntu_20\n",
      "Image Type         qcow2\n",
      "Host               star-w5.fabric-testbed.net\n",
      "Site               STAR\n",
      "Management IP      2001:400:a100:3030:f816:3eff:fe64:4f17\n",
      "Reservation State  Active\n",
      "Error Message\n",
      "SSH Command        ssh -i /home/fabric/work/fabric_config/slice_key -F /home/fabric/work/fabric_config/ssh_config ubuntu@2001:400:a100:3030:f816:3eff:fe64:4f17\n",
      "-----------------  --------------------------------------------------------------------------------------------------------------------------------------------\n"
     ]
    }
   ],
   "source": [
    "for node in slice.get_nodes():\n",
    "    print(node)"
   ]
  },
  {
   "cell_type": "code",
   "execution_count": null,
   "id": "961fa267-0403-4190-b336-bf84a4f0ee46",
   "metadata": {},
   "outputs": [],
   "source": []
  }
 ],
 "metadata": {
  "kernelspec": {
   "display_name": "Python 3 (ipykernel)",
   "language": "python",
   "name": "python3"
  },
  "language_info": {
   "codemirror_mode": {
    "name": "ipython",
    "version": 3
   },
   "file_extension": ".py",
   "mimetype": "text/x-python",
   "name": "python",
   "nbconvert_exporter": "python",
   "pygments_lexer": "ipython3",
   "version": "3.10.6"
  }
 },
 "nbformat": 4,
 "nbformat_minor": 5
}
