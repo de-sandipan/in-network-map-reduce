{
 "cells": [
  {
   "cell_type": "code",
   "execution_count": 1,
   "id": "ccf524d0-a21d-494d-90cf-0c603ed37f97",
   "metadata": {},
   "outputs": [],
   "source": [
    "from fabrictestbed_extensions.fablib.fablib import FablibManager as fablib_manager\n",
    "fablib = fablib_manager()"
   ]
  },
  {
   "cell_type": "code",
   "execution_count": 2,
   "id": "6b6f0e85-a0b0-4187-b8e4-cb48639b4d71",
   "metadata": {},
   "outputs": [],
   "source": [
    "slice = fablib.get_slice(name=\"hadoop-cluster-icdm\")"
   ]
  },
  {
   "cell_type": "code",
   "execution_count": 3,
   "id": "845680f4-60de-4aaa-91d8-a24ae19665c3",
   "metadata": {},
   "outputs": [],
   "source": [
    "from datetime import datetime\n",
    "from datetime import timezone\n",
    "from datetime import timedelta\n",
    "\n",
    "end_date = (datetime.now(timezone.utc) + timedelta(days=14)).strftime(\"%Y-%m-%d %H:%M:%S %z\")\n",
    "slice.renew(end_date)"
   ]
  },
  {
   "cell_type": "code",
   "execution_count": 4,
   "id": "658f6da0-1f75-4ac3-ad21-b197ae8afd38",
   "metadata": {},
   "outputs": [],
   "source": [
    "slice.update()"
   ]
  },
  {
   "cell_type": "code",
   "execution_count": 9,
   "id": "e3c56b2b-56a5-4b11-8d03-65af7595fa10",
   "metadata": {},
   "outputs": [
    {
     "data": {
      "text/html": [
       "<style type=\"text/css\">\n",
       "#T_6adb8 tr:nth-child(even) {\n",
       "  background: #dbf3ff;\n",
       "  color: #231f20;\n",
       "}\n",
       "#T_6adb8 tr:nth-child(odd) {\n",
       "  background: #ffffff;\n",
       "  color: #231f20;\n",
       "}\n",
       "#T_6adb8 caption {\n",
       "  text-align: center;\n",
       "  font-size: 150%;\n",
       "}\n",
       "#T_6adb8_row0_col0, #T_6adb8_row0_col1, #T_6adb8_row1_col0, #T_6adb8_row1_col1, #T_6adb8_row2_col0, #T_6adb8_row2_col1, #T_6adb8_row3_col0, #T_6adb8_row3_col1, #T_6adb8_row4_col0, #T_6adb8_row4_col1, #T_6adb8_row5_col0, #T_6adb8_row5_col1 {\n",
       "  text-align: left;\n",
       "  border: 1px #231f20 solid !important;\n",
       "  overwrite: False;\n",
       "}\n",
       "</style>\n",
       "<table id=\"T_6adb8\">\n",
       "  <caption>Slice</caption>\n",
       "  <thead>\n",
       "  </thead>\n",
       "  <tbody>\n",
       "    <tr>\n",
       "      <td id=\"T_6adb8_row0_col0\" class=\"data row0 col0\" >ID</td>\n",
       "      <td id=\"T_6adb8_row0_col1\" class=\"data row0 col1\" >508809ae-dae0-402f-8a3b-502269ba4fa9</td>\n",
       "    </tr>\n",
       "    <tr>\n",
       "      <td id=\"T_6adb8_row1_col0\" class=\"data row1 col0\" >Name</td>\n",
       "      <td id=\"T_6adb8_row1_col1\" class=\"data row1 col1\" >hadoop-cluster-icdm</td>\n",
       "    </tr>\n",
       "    <tr>\n",
       "      <td id=\"T_6adb8_row2_col0\" class=\"data row2 col0\" >Lease Expiration (UTC)</td>\n",
       "      <td id=\"T_6adb8_row2_col1\" class=\"data row2 col1\" >2023-12-22 00:51:59 +0000</td>\n",
       "    </tr>\n",
       "    <tr>\n",
       "      <td id=\"T_6adb8_row3_col0\" class=\"data row3 col0\" >Lease Start (UTC)</td>\n",
       "      <td id=\"T_6adb8_row3_col1\" class=\"data row3 col1\" >2023-12-08 00:23:52 +0000</td>\n",
       "    </tr>\n",
       "    <tr>\n",
       "      <td id=\"T_6adb8_row4_col0\" class=\"data row4 col0\" >Project ID</td>\n",
       "      <td id=\"T_6adb8_row4_col1\" class=\"data row4 col1\" >6ce270de-788d-4e07-8bae-3206860a6387</td>\n",
       "    </tr>\n",
       "    <tr>\n",
       "      <td id=\"T_6adb8_row5_col0\" class=\"data row5 col0\" >State</td>\n",
       "      <td id=\"T_6adb8_row5_col1\" class=\"data row5 col1\" >StableOK</td>\n",
       "    </tr>\n",
       "  </tbody>\n",
       "</table>\n"
      ],
      "text/plain": [
       "<pandas.io.formats.style.Styler at 0x7f663c12fb20>"
      ]
     },
     "metadata": {},
     "output_type": "display_data"
    },
    {
     "data": {
      "text/html": [
       "<style type=\"text/css\">\n",
       "#T_6adb8 tr:nth-child(even) {\n",
       "  background: #dbf3ff;\n",
       "  color: #231f20;\n",
       "}\n",
       "#T_6adb8 tr:nth-child(odd) {\n",
       "  background: #ffffff;\n",
       "  color: #231f20;\n",
       "}\n",
       "#T_6adb8 caption {\n",
       "  text-align: center;\n",
       "  font-size: 150%;\n",
       "}\n",
       "#T_6adb8_row0_col0, #T_6adb8_row0_col1, #T_6adb8_row1_col0, #T_6adb8_row1_col1, #T_6adb8_row2_col0, #T_6adb8_row2_col1, #T_6adb8_row3_col0, #T_6adb8_row3_col1, #T_6adb8_row4_col0, #T_6adb8_row4_col1, #T_6adb8_row5_col0, #T_6adb8_row5_col1 {\n",
       "  text-align: left;\n",
       "  border: 1px #231f20 solid !important;\n",
       "  overwrite: False;\n",
       "}\n",
       "</style>\n",
       "<table id=\"T_6adb8\">\n",
       "  <caption>Slice</caption>\n",
       "  <thead>\n",
       "  </thead>\n",
       "  <tbody>\n",
       "    <tr>\n",
       "      <td id=\"T_6adb8_row0_col0\" class=\"data row0 col0\" >ID</td>\n",
       "      <td id=\"T_6adb8_row0_col1\" class=\"data row0 col1\" >508809ae-dae0-402f-8a3b-502269ba4fa9</td>\n",
       "    </tr>\n",
       "    <tr>\n",
       "      <td id=\"T_6adb8_row1_col0\" class=\"data row1 col0\" >Name</td>\n",
       "      <td id=\"T_6adb8_row1_col1\" class=\"data row1 col1\" >hadoop-cluster-icdm</td>\n",
       "    </tr>\n",
       "    <tr>\n",
       "      <td id=\"T_6adb8_row2_col0\" class=\"data row2 col0\" >Lease Expiration (UTC)</td>\n",
       "      <td id=\"T_6adb8_row2_col1\" class=\"data row2 col1\" >2023-12-22 00:51:59 +0000</td>\n",
       "    </tr>\n",
       "    <tr>\n",
       "      <td id=\"T_6adb8_row3_col0\" class=\"data row3 col0\" >Lease Start (UTC)</td>\n",
       "      <td id=\"T_6adb8_row3_col1\" class=\"data row3 col1\" >2023-12-08 00:23:52 +0000</td>\n",
       "    </tr>\n",
       "    <tr>\n",
       "      <td id=\"T_6adb8_row4_col0\" class=\"data row4 col0\" >Project ID</td>\n",
       "      <td id=\"T_6adb8_row4_col1\" class=\"data row4 col1\" >6ce270de-788d-4e07-8bae-3206860a6387</td>\n",
       "    </tr>\n",
       "    <tr>\n",
       "      <td id=\"T_6adb8_row5_col0\" class=\"data row5 col0\" >State</td>\n",
       "      <td id=\"T_6adb8_row5_col1\" class=\"data row5 col1\" >StableOK</td>\n",
       "    </tr>\n",
       "  </tbody>\n",
       "</table>\n"
      ],
      "text/plain": [
       "<pandas.io.formats.style.Styler at 0x7f663c12fb20>"
      ]
     },
     "execution_count": 9,
     "metadata": {},
     "output_type": "execute_result"
    }
   ],
   "source": [
    "slice.show()"
   ]
  },
  {
   "cell_type": "code",
   "execution_count": null,
   "id": "806e2def-c69d-4e68-bc77-0b9ee1b9a82a",
   "metadata": {},
   "outputs": [],
   "source": []
  },
  {
   "cell_type": "code",
   "execution_count": null,
   "id": "b8b9d22b-594e-43df-bedf-c4eea4a8a138",
   "metadata": {},
   "outputs": [],
   "source": []
  },
  {
   "cell_type": "code",
   "execution_count": 6,
   "id": "ad358be0-810a-47a0-8c4e-13222736a55e",
   "metadata": {},
   "outputs": [],
   "source": [
    "# slice.delete()"
   ]
  },
  {
   "cell_type": "code",
   "execution_count": 7,
   "id": "0fab8adb-92af-45ac-84b7-18736ef9dea6",
   "metadata": {},
   "outputs": [],
   "source": [
    "# slice.update()"
   ]
  },
  {
   "cell_type": "code",
   "execution_count": 8,
   "id": "5417fa8b-7bb1-4d4d-a24b-cbab49338bd2",
   "metadata": {},
   "outputs": [],
   "source": [
    "# slice.show()"
   ]
  },
  {
   "cell_type": "code",
   "execution_count": null,
   "id": "961fa267-0403-4190-b336-bf84a4f0ee46",
   "metadata": {},
   "outputs": [],
   "source": []
  }
 ],
 "metadata": {
  "kernelspec": {
   "display_name": "Python 3 (ipykernel)",
   "language": "python",
   "name": "python3"
  },
  "language_info": {
   "codemirror_mode": {
    "name": "ipython",
    "version": 3
   },
   "file_extension": ".py",
   "mimetype": "text/x-python",
   "name": "python",
   "nbconvert_exporter": "python",
   "pygments_lexer": "ipython3",
   "version": "3.10.6"
  }
 },
 "nbformat": 4,
 "nbformat_minor": 5
}
