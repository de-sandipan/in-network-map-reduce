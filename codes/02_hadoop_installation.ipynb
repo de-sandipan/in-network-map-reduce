{
 "cells": [
  {
   "cell_type": "code",
   "execution_count": 1,
   "id": "ab96875f-6429-4053-9a02-6ddbe6f2d80b",
   "metadata": {},
   "outputs": [],
   "source": [
    "from fabrictestbed_extensions.fablib.fablib import FablibManager as fablib_manager\n",
    "fablib = fablib_manager()"
   ]
  },
  {
   "cell_type": "code",
   "execution_count": 2,
   "id": "994888ea-3f07-420a-97fa-374df98524fd",
   "metadata": {},
   "outputs": [],
   "source": [
    "slice = fablib.get_slice(name=\"hadoop-cluster-icdm\")"
   ]
  },
  {
   "cell_type": "code",
   "execution_count": 3,
   "id": "233c6be2-9852-4520-8375-5185f1210e13",
   "metadata": {},
   "outputs": [],
   "source": [
    "server_details = []\n",
    "for node in slice.get_nodes():\n",
    "    dtl = {}\n",
    "    if node.get_name()[:3] == 'svr':\n",
    "        dtl['name'] = node.get_name()\n",
    "        dtl['addr'] = node.get_interfaces()[0].get_ip_addr_ssh()\n",
    "        dtl['ssh'] = node.get_ssh_command()\n",
    "        server_details.append(dtl)"
   ]
  },
  {
   "cell_type": "code",
   "execution_count": 4,
   "id": "375d042b-29e3-4eeb-be12-ab3e6c7b38c3",
   "metadata": {},
   "outputs": [],
   "source": [
    "cluster_size = len(server_details)"
   ]
  },
  {
   "cell_type": "code",
   "execution_count": 5,
   "id": "66fb5351-f6b3-4ae4-92d0-6b20ac470277",
   "metadata": {},
   "outputs": [],
   "source": [
    "with open('./config_files/hadoop_hosts', 'w') as f:\n",
    "    for i in range(cluster_size):\n",
    "        f.write(f'10.{i}.0.2 svr{i}\\n')"
   ]
  },
  {
   "cell_type": "code",
   "execution_count": 6,
   "id": "a8cdbd4f-e0c8-4861-8714-2870927c5ecb",
   "metadata": {},
   "outputs": [],
   "source": [
    "name_node = slice.get_node(name='svr0')"
   ]
  },
  {
   "cell_type": "code",
   "execution_count": 7,
   "id": "6fd3234f-51b6-4346-b67d-6895028da0e8",
   "metadata": {},
   "outputs": [
    {
     "name": "stdout",
     "output_type": "stream",
     "text": [
      "Generating public/private rsa key pair.\n",
      "Your identification has been saved in /home/ubuntu/.ssh/id_rsa\n",
      "Your public key has been saved in /home/ubuntu/.ssh/id_rsa.pub\n",
      "The key fingerprint is:\n",
      "SHA256:LPCUt8MPRNdEG/EV9ebQaRnMw2EB6nSajtEpaYtUqLM ubuntu@svr0\n",
      "The key's randomart image is:\n",
      "+---[RSA 3072]----+\n",
      "|        . .+=o=*B|\n",
      "|       o..  o+.B=|\n",
      "|    . o.o. o..o+=|\n",
      "|     +.=..= = .+ |\n",
      "|     oo.S= *    .|\n",
      "|      +.o+*      |\n",
      "|     E . o..     |\n",
      "|                 |\n",
      "|                 |\n",
      "+----[SHA256]-----+\n"
     ]
    },
    {
     "data": {
      "text/plain": [
       "(\"Generating public/private rsa key pair.\\nYour identification has been saved in /home/ubuntu/.ssh/id_rsa\\nYour public key has been saved in /home/ubuntu/.ssh/id_rsa.pub\\nThe key fingerprint is:\\nSHA256:LPCUt8MPRNdEG/EV9ebQaRnMw2EB6nSajtEpaYtUqLM ubuntu@svr0\\nThe key's randomart image is:\\n+---[RSA 3072]----+\\n|        . .+=o=*B|\\n|       o..  o+.B=|\\n|    . o.o. o..o+=|\\n|     +.=..= = .+ |\\n|     oo.S= *    .|\\n|      +.o+*      |\\n|     E . o..     |\\n|                 |\\n|                 |\\n+----[SHA256]-----+\\n\",\n",
       " '')"
      ]
     },
     "execution_count": 7,
     "metadata": {},
     "output_type": "execute_result"
    }
   ],
   "source": [
    "name_node.execute(\"ssh-keygen -t rsa -P '' -f ~/.ssh/id_rsa\")"
   ]
  },
  {
   "cell_type": "code",
   "execution_count": 8,
   "id": "b1efd737-73c0-407d-b443-a71a9ae69765",
   "metadata": {},
   "outputs": [],
   "source": [
    "name_node.download_file(\"./config_files/id_rsa.pub\", \"/home/ubuntu/.ssh/id_rsa.pub\")"
   ]
  },
  {
   "cell_type": "code",
   "execution_count": 9,
   "id": "5325a082-b033-4635-a332-d2804d924a47",
   "metadata": {},
   "outputs": [],
   "source": [
    "with open('./config_files/ssh_config', 'w') as f:\n",
    "    for i in range(cluster_size):\n",
    "        f.write(f'Host svr{i}\\n')\n",
    "        f.write(f'  HostName 10.{i}.0.2\\n')\n",
    "        f.write(f'  User ubuntu\\n')\n",
    "        f.write(f'  IdentityFile ~/.ssh/id_rsa\\n')"
   ]
  },
  {
   "cell_type": "code",
   "execution_count": 10,
   "id": "d2322638-8ccd-4fa7-b07c-27c7c0b8a05e",
   "metadata": {},
   "outputs": [],
   "source": [
    "with open('./config_files/hadoop_config_files/workers', 'w') as f:\n",
    "    for i in range(1, cluster_size):\n",
    "        f.write(f'10.{i}.0.2\\n')"
   ]
  },
  {
   "cell_type": "code",
   "execution_count": 11,
   "id": "07d1309f-ef72-496c-a079-15e8fb1185a1",
   "metadata": {},
   "outputs": [],
   "source": [
    "for node in slice.get_nodes():\n",
    "    node_name = node.get_name()\n",
    "    if node_name[:3] == 'svr':\n",
    "        node.execute(\"sudo apt-get update -y\", quiet=True)\n",
    "        node.execute(\"mkdir /home/ubuntu/hadoop_setup_files\")\n",
    "        node.upload_file(\"./config_files/hadoop_hosts\", \"/home/ubuntu/hadoop_setup_files/hadoop_hosts\")\n",
    "        node.execute(\"sudo cp /home/ubuntu/hadoop_setup_files/hadoop_hosts /etc/hosts\")\n",
    "        \n",
    "        if node_name != 'svr0':\n",
    "            node.upload_file(\"./config_files/id_rsa.pub\", \"/home/ubuntu/.ssh/id_rsa.pub\")\n",
    "        if node_name == 'svr0':\n",
    "            node.upload_file(\"./config_files/ssh_config\", \"/home/ubuntu/.ssh/config\")\n",
    "        node.execute(\"cat ~/.ssh/id_rsa.pub >> ~/.ssh/authorized_keys\")\n",
    "        \n",
    "        node.execute(\"sudo apt-get -y install openjdk-8-jdk-headless\", quiet=True)\n",
    "        node.execute(\"wget https://dlcdn.apache.org/hadoop/common/hadoop-3.3.6/hadoop-3.3.6.tar.gz\", quiet=True)\n",
    "        node.execute(\"tar xvzf hadoop-3.3.6.tar.gz\", quiet=True)\n",
    "        node.execute(\"mv hadoop-3.3.6 hadoop\", quiet=True)\n",
    "        node.execute(\"sudo mkdir -p /usr/local/hadoop/hdfs/namenode/data\", quiet=True)\n",
    "        node.execute(\"sudo mkdir -p /usr/local/hadoop/hdfs/datanode/data\", quiet=True)\n",
    "        node.execute(\"sudo chown -R ubuntu:ubuntu /usr/local/hadoop/hdfs/namenode/data\", quiet=True)\n",
    "        node.execute(\"sudo chown -R ubuntu:ubuntu /usr/local/hadoop/hdfs/datanode/data\", quiet=True)"
   ]
  },
  {
   "cell_type": "code",
   "execution_count": 12,
   "id": "371e2b96-ead3-46f4-ba6e-7e3804653d93",
   "metadata": {},
   "outputs": [],
   "source": [
    "for node in slice.get_nodes():\n",
    "    node_name = node.get_name()\n",
    "    if node_name[:3] == 'svr':\n",
    "        \n",
    "        node.upload_file(\"./config_files/hadoop_config_files/bkup-hadoop-env.sh\",   \"/home/ubuntu/hadoop_setup_files/hadoop-env.sh\")\n",
    "        node.upload_file(\"./config_files/hadoop_config_files/bkup-core-site.xml\",   \"/home/ubuntu/hadoop_setup_files/core-site.xml\")\n",
    "        node.upload_file(\"./config_files/hadoop_config_files/bkup-hdfs-site.xml\",   \"/home/ubuntu/hadoop_setup_files/hdfs-site.xml\")\n",
    "        node.upload_file(\"./config_files/hadoop_config_files/bkup-yarn-site.xml\",   \"/home/ubuntu/hadoop_setup_files/yarn-site.xml\")\n",
    "        node.upload_file(\"./config_files/hadoop_config_files/bkup-mapred-site.xml\", \"/home/ubuntu/hadoop_setup_files/mapred-site.xml\")\n",
    "        node.upload_file(\"./config_files/hadoop_config_files/workers\",              \"/home/ubuntu/hadoop_setup_files/workers\")\n",
    "        node.upload_file(\"./config_files/bashrc_update\",                            \"/home/ubuntu/hadoop_setup_files/bashrc_update\")\n",
    "        \n",
    "        node.execute(\"sudo cp /home/ubuntu/hadoop_setup_files/hadoop-env.sh    /home/ubuntu/hadoop/etc/hadoop/hadoop-env.sh\")\n",
    "        node.execute(\"sudo cp /home/ubuntu/hadoop_setup_files/core-site.xml    /home/ubuntu/hadoop/etc/hadoop/core-site.xml\")\n",
    "        node.execute(\"sudo cp /home/ubuntu/hadoop_setup_files/hdfs-site.xml    /home/ubuntu/hadoop/etc/hadoop/hdfs-site.xml\")\n",
    "        node.execute(\"sudo cp /home/ubuntu/hadoop_setup_files/yarn-site.xml    /home/ubuntu/hadoop/etc/hadoop/yarn-site.xml\")\n",
    "        node.execute(\"sudo cp /home/ubuntu/hadoop_setup_files/mapred-site.xml  /home/ubuntu/hadoop/etc/hadoop/mapred-site.xml\")\n",
    "        node.execute(\"sudo cp /home/ubuntu/hadoop_setup_files/workers          /home/ubuntu/hadoop/etc/hadoop/workers\")\n",
    "        node.execute(\"cat /home/ubuntu/hadoop_setup_files/bashrc_update >> /home/ubuntu/.bashrc\")\n",
    "        node.execute(\"source /home/ubuntu/.bashrc\")"
   ]
  },
  {
   "cell_type": "code",
   "execution_count": 13,
   "id": "abb94954-2d10-4d9c-94e6-747dd09ce001",
   "metadata": {},
   "outputs": [
    {
     "data": {
      "text/plain": [
       "[{'name': 'svr0',\n",
       "  'addr': '10.0.0.2',\n",
       "  'ssh': 'ssh -i /home/fabric/work/fabric_config/slice_key -F /home/fabric/work/fabric_config/ssh_config ubuntu@2001:400:a100:3030:f816:3eff:feb5:539c'},\n",
       " {'name': 'svr1',\n",
       "  'addr': '10.1.0.2',\n",
       "  'ssh': 'ssh -i /home/fabric/work/fabric_config/slice_key -F /home/fabric/work/fabric_config/ssh_config ubuntu@2001:400:a100:3030:f816:3eff:fe56:5a56'},\n",
       " {'name': 'svr2',\n",
       "  'addr': '10.2.0.2',\n",
       "  'ssh': 'ssh -i /home/fabric/work/fabric_config/slice_key -F /home/fabric/work/fabric_config/ssh_config ubuntu@2001:400:a100:3030:f816:3eff:fe74:a331'}]"
      ]
     },
     "execution_count": 13,
     "metadata": {},
     "output_type": "execute_result"
    }
   ],
   "source": [
    "server_details"
   ]
  },
  {
   "cell_type": "code",
   "execution_count": 14,
   "id": "ebff81ec-c362-41d9-bb8b-559cb8eb8b4b",
   "metadata": {},
   "outputs": [
    {
     "name": "stdout",
     "output_type": "stream",
     "text": [
      "\u001b[31m WARNING: /home/ubuntu/hadoop/logs does not exist. Creating.\n",
      "2023-12-08 00:43:03,353 INFO namenode.NameNode: STARTUP_MSG: \n",
      "/************************************************************\n",
      "STARTUP_MSG: Starting NameNode\n",
      "STARTUP_MSG:   host = svr0/10.0.0.2\n",
      "STARTUP_MSG:   args = [-format]\n",
      "STARTUP_MSG:   version = 3.3.6\n",
      "STARTUP_MSG:   classpath = /home/ubuntu/hadoop/etc/hadoop:/home/ubuntu/hadoop/share/hadoop/common/lib/netty-transport-native-epoll-4.1.89.Final-linux-aarch_64.jar:/home/ubuntu/hadoop/share/hadoop/common/lib/jakarta.activation-api-1.2.1.jar:/home/ubuntu/hadoop/share/hadoop/common/lib/curator-client-5.2.0.jar:/home/ubuntu/hadoop/share/hadoop/common/lib/animal-sniffer-annotations-1.17.jar:/home/ubuntu/hadoop/share/hadoop/common/lib/httpclient-4.5.13.jar:/home/ubuntu/hadoop/share/hadoop/common/lib/jackson-mapper-asl-1.9.13.jar:/home/ubuntu/hadoop/share/hadoop/common/lib/netty-transport-native-epoll-4.1.89.Final-linux-x86_64.jar:/home/ubuntu/hadoop/share/hadoop/common/lib/netty-codec-socks-4.1.89.Final.jar:/home/ubuntu/hadoop/share/hadoop/common/lib/jetty-io-9.4.51.v20230217.jar:/home/ubuntu/hadoop/share/hadoop/common/lib/netty-resolver-4.1.89.Final.jar:/home/ubuntu/hadoop/share/hadoop/common/lib/kerby-util-1.0.1.jar:/home/ubuntu/hadoop/share/hadoop/common/lib/jetty-xml-9.4.51.v20230217.jar:/home/ubuntu/hadoop/share/hadoop/common/lib/jcip-annotations-1.0-1.jar:/home/ubuntu/hadoop/share/hadoop/common/lib/kerb-common-1.0.1.jar:/home/ubuntu/hadoop/share/hadoop/common/lib/commons-collections-3.2.2.jar:/home/ubuntu/hadoop/share/hadoop/common/lib/kerb-admin-1.0.1.jar:/home/ubuntu/hadoop/share/hadoop/common/lib/hadoop-annotations-3.3.6.jar:/home/ubuntu/hadoop/share/hadoop/common/lib/guava-27.0-jre.jar:/home/ubuntu/hadoop/share/hadoop/common/lib/kerb-identity-1.0.1.jar:/home/ubuntu/hadoop/share/hadoop/common/lib/kerb-crypto-1.0.1.jar:/home/ubuntu/hadoop/share/hadoop/common/lib/stax2-api-4.2.1.jar:/home/ubuntu/hadoop/share/hadoop/common/lib/gson-2.9.0.jar:/home/ubuntu/hadoop/share/hadoop/common/lib/netty-transport-udt-4.1.89.Final.jar:/home/ubuntu/hadoop/share/hadoop/common/lib/paranamer-2.3.jar:/home/ubuntu/hadoop/share/hadoop/common/lib/httpcore-4.4.13.jar:/home/ubuntu/hadoop/share/hadoop/common/lib/netty-transport-native-kqueue-4.1.89.Final-osx-x86_64.jar:/home/ubuntu/hadoop/share/hadoop/common/lib/snappy-java-1.1.8.2.jar:/home/ubuntu/hadoop/share/hadoop/common/lib/netty-codec-memcache-4.1.89.Final.jar:/home/ubuntu/hadoop/share/hadoop/common/lib/netty-resolver-dns-4.1.89.Final.jar:/home/ubuntu/hadoop/share/hadoop/common/lib/jetty-server-9.4.51.v20230217.jar:/home/ubuntu/hadoop/share/hadoop/common/lib/kerby-xdr-1.0.1.jar:/home/ubuntu/hadoop/share/hadoop/common/lib/slf4j-api-1.7.36.jar:/home/ubuntu/hadoop/share/hadoop/common/lib/audience-annotations-0.5.0.jar:/home/ubuntu/hadoop/share/hadoop/common/lib/kerb-client-1.0.1.jar:/home/ubuntu/hadoop/share/hadoop/common/lib/netty-transport-rxtx-4.1.89.Final.jar:/home/ubuntu/hadoop/share/hadoop/common/lib/commons-math3-3.1.1.jar:/home/ubuntu/hadoop/share/hadoop/common/lib/failureaccess-1.0.jar:/home/ubuntu/hadoop/share/hadoop/common/lib/netty-transport-classes-kqueue-4.1.89.Final.jar:/home/ubuntu/hadoop/share/hadoop/common/lib/netty-codec-http-4.1.89.Final.jar:/home/ubuntu/hadoop/share/hadoop/common/lib/jaxb-api-2.2.11.jar:/home/ubuntu/hadoop/share/hadoop/common/lib/kerb-simplekdc-1.0.1.jar:/home/ubuntu/hadoop/share/hadoop/common/lib/netty-codec-http2-4.1.89.Final.jar:/home/ubuntu/hadoop/share/hadoop/common/lib/re2j-1.1.jar:/home/ubuntu/hadoop/share/hadoop/common/lib/netty-codec-xml-4.1.89.Final.jar:/home/ubuntu/hadoop/share/hadoop/common/lib/netty-transport-native-kqueue-4.1.89.Final-osx-aarch_64.jar:/home/ubuntu/hadoop/share/hadoop/common/lib/netty-transport-sctp-4.1.89.Final.jar:/home/ubuntu/hadoop/share/hadoop/common/lib/jetty-servlet-9.4.51.v20230217.jar:/home/ubuntu/hadoop/share/hadoop/common/lib/javax.servlet-api-3.1.0.jar:/home/ubuntu/hadoop/share/hadoop/common/lib/netty-resolver-dns-classes-macos-4.1.89.Final.jar:/home/ubuntu/hadoop/share/hadoop/common/lib/commons-compress-1.21.jar:/home/ubuntu/hadoop/share/hadoop/common/lib/netty-handler-4.1.89.Final.jar:/home/ubuntu/hadoop/share/hadoop/common/lib/netty-codec-haproxy-4.1.89.Final.jar:/home/ubuntu/hadoop/share/hadoop/common/lib/commons-lang3-3.12.0.jar:/home/ubuntu/hadoop/share/hadoop/common/lib/jettison-1.5.4.jar:/home/ubuntu/hadoop/share/hadoop/common/lib/dnsjava-2.1.7.jar:/home/ubuntu/hadoop/share/hadoop/common/lib/jetty-webapp-9.4.51.v20230217.jar:/home/ubuntu/hadoop/share/hadoop/common/lib/kerb-util-1.0.1.jar:/home/ubuntu/hadoop/share/hadoop/common/lib/reload4j-1.2.22.jar:/home/ubuntu/hadoop/share/hadoop/common/lib/jersey-json-1.20.jar:/home/ubuntu/hadoop/share/hadoop/common/lib/commons-text-1.10.0.jar:/home/ubuntu/hadoop/share/hadoop/common/lib/netty-codec-mqtt-4.1.89.Final.jar:/home/ubuntu/hadoop/share/hadoop/common/lib/zookeeper-jute-3.6.3.jar:/home/ubuntu/hadoop/share/hadoop/common/lib/jackson-core-asl-1.9.13.jar:/home/ubuntu/hadoop/share/hadoop/common/lib/netty-handler-proxy-4.1.89.Final.jar:/home/ubuntu/hadoop/share/hadoop/common/lib/checker-qual-2.5.2.jar:/home/ubuntu/hadoop/share/hadoop/common/lib/commons-codec-1.15.jar:/home/ubuntu/hadoop/share/hadoop/common/lib/netty-codec-stomp-4.1.89.Final.jar:/home/ubuntu/hadoop/share/hadoop/common/lib/slf4j-reload4j-1.7.36.jar:/home/ubuntu/hadoop/share/hadoop/common/lib/jetty-util-ajax-9.4.51.v20230217.jar:/home/ubuntu/hadoop/share/hadoop/common/lib/netty-common-4.1.89.Final.jar:/home/ubuntu/hadoop/share/hadoop/common/lib/netty-handler-ssl-ocsp-4.1.89.Final.jar:/home/ubuntu/hadoop/share/hadoop/common/lib/netty-buffer-4.1.89.Final.jar:/home/ubuntu/hadoop/share/hadoop/common/lib/kerby-asn1-1.0.1.jar:/home/ubuntu/hadoop/share/hadoop/common/lib/jackson-annotations-2.12.7.jar:/home/ubuntu/hadoop/share/hadoop/common/lib/netty-codec-dns-4.1.89.Final.jar:/home/ubuntu/hadoop/share/hadoop/common/lib/kerb-server-1.0.1.jar:/home/ubuntu/hadoop/share/hadoop/common/lib/commons-logging-1.1.3.jar:/home/ubuntu/hadoop/share/hadoop/common/lib/jsp-api-2.1.jar:/home/ubuntu/hadoop/share/hadoop/common/lib/jaxb-impl-2.2.3-1.jar:/home/ubuntu/hadoop/share/hadoop/common/lib/netty-transport-4.1.89.Final.jar:/home/ubuntu/hadoop/share/hadoop/common/lib/jackson-core-2.12.7.jar:/home/ubuntu/hadoop/share/hadoop/common/lib/commons-net-3.9.0.jar:/home/ubuntu/hadoop/share/hadoop/common/lib/jsr311-api-1.1.1.jar:/home/ubuntu/hadoop/share/hadoop/common/lib/zookeeper-3.6.3.jar:/home/ubuntu/hadoop/share/hadoop/common/lib/listenablefuture-9999.0-empty-to-avoid-conflict-with-guava.jar:/home/ubuntu/hadoop/share/hadoop/common/lib/commons-cli-1.2.jar:/home/ubuntu/hadoop/share/hadoop/common/lib/jersey-core-1.19.4.jar:/home/ubuntu/hadoop/share/hadoop/common/lib/hadoop-auth-3.3.6.jar:/home/ubuntu/hadoop/share/hadoop/common/lib/netty-transport-classes-epoll-4.1.89.Final.jar:/home/ubuntu/hadoop/share/hadoop/common/lib/netty-codec-redis-4.1.89.Final.jar:/home/ubuntu/hadoop/share/hadoop/common/lib/commons-io-2.8.0.jar:/home/ubuntu/hadoop/share/hadoop/common/lib/jetty-http-9.4.51.v20230217.jar:/home/ubuntu/hadoop/share/hadoop/common/lib/hadoop-shaded-guava-1.1.1.jar:/home/ubuntu/hadoop/share/hadoop/common/lib/jetty-util-9.4.51.v20230217.jar:/home/ubuntu/hadoop/share/hadoop/common/lib/jul-to-slf4j-1.7.36.jar:/home/ubuntu/hadoop/share/hadoop/common/lib/netty-transport-native-unix-common-4.1.89.Final.jar:/home/ubuntu/hadoop/share/hadoop/common/lib/jersey-servlet-1.19.4.jar:/home/ubuntu/hadoop/share/hadoop/common/lib/curator-recipes-5.2.0.jar:/home/ubuntu/hadoop/share/hadoop/common/lib/jersey-server-1.19.4.jar:/home/ubuntu/hadoop/share/hadoop/common/lib/hadoop-shaded-protobuf_3_7-1.1.1.jar:/home/ubuntu/hadoop/share/hadoop/common/lib/jetty-security-9.4.51.v20230217.jar:/home/ubuntu/hadoop/share/hadoop/common/lib/jackson-databind-2.12.7.1.jar:/home/ubuntu/hadoop/share/hadoop/common/lib/commons-configuration2-2.8.0.jar:/home/ubuntu/hadoop/share/hadoop/common/lib/avro-1.7.7.jar:/home/ubuntu/hadoop/share/hadoop/common/lib/j2objc-annotations-1.1.jar:/home/ubuntu/hadoop/share/hadoop/common/lib/commons-beanutils-1.9.4.jar:/home/ubuntu/hadoop/share/hadoop/common/lib/kerby-config-1.0.1.jar:/home/ubuntu/hadoop/share/hadoop/common/lib/kerb-core-1.0.1.jar:/home/ubuntu/hadoop/share/hadoop/common/lib/nimbus-jose-jwt-9.8.1.jar:/home/ubuntu/hadoop/share/hadoop/common/lib/metrics-core-3.2.4.jar:/home/ubuntu/hadoop/share/hadoop/common/lib/protobuf-java-2.5.0.jar:/home/ubuntu/hadoop/share/hadoop/common/lib/netty-codec-smtp-4.1.89.Final.jar:/home/ubuntu/hadoop/share/hadoop/common/lib/jsr305-3.0.2.jar:/home/ubuntu/hadoop/share/hadoop/common/lib/woodstox-core-5.4.0.jar:/home/ubuntu/hadoop/share/hadoop/common/lib/netty-codec-4.1.89.Final.jar:/home/ubuntu/hadoop/share/hadoop/common/lib/netty-resolver-dns-native-macos-4.1.89.Final-osx-x86_64.jar:/home/ubuntu/hadoop/share/hadoop/common/lib/token-provider-1.0.1.jar:/home/ubuntu/hadoop/share/hadoop/common/lib/commons-daemon-1.0.13.jar:/home/ubuntu/hadoop/share/hadoop/common/lib/curator-framework-5.2.0.jar:/home/ubuntu/hadoop/share/hadoop/common/lib/jsch-0.1.55.jar:/home/ubuntu/hadoop/share/hadoop/common/lib/netty-resolver-dns-native-macos-4.1.89.Final-osx-aarch_64.jar:/home/ubuntu/hadoop/share/hadoop/common/lib/netty-all-4.1.89.Final.jar:/home/ubuntu/hadoop/share/hadoop/common/lib/kerby-pkix-1.0.1.jar:/home/ubuntu/hadoop/share/hadoop/common/hadoop-registry-3.3.6.jar:/home/ubuntu/hadoop/share/hadoop/common/hadoop-common-3.3.6.jar:/home/ubuntu/hadoop/share/hadoop/common/hadoop-common-3.3.6-tests.jar:/home/ubuntu/hadoop/share/hadoop/common/hadoop-nfs-3.3.6.jar:/home/ubuntu/hadoop/share/hadoop/common/hadoop-kms-3.3.6.jar:/home/ubuntu/hadoop/share/hadoop/hdfs:/home/ubuntu/hadoop/share/hadoop/hdfs/lib/kotlin-stdlib-common-1.4.10.jar:/home/ubuntu/hadoop/share/hadoop/hdfs/lib/netty-transport-native-epoll-4.1.89.Final-linux-aarch_64.jar:/home/ubuntu/hadoop/share/hadoop/hdfs/lib/jakarta.activation-api-1.2.1.jar:/home/ubuntu/hadoop/share/hadoop/hdfs/lib/curator-client-5.2.0.jar:/home/ubuntu/hadoop/share/hadoop/hdfs/lib/animal-sniffer-annotations-1.17.jar:/home/ubuntu/hadoop/share/hadoop/hdfs/lib/httpclient-4.5.13.jar:/home/ubuntu/hadoop/share/hadoop/hdfs/lib/jackson-mapper-asl-1.9.13.jar:/home/ubuntu/hadoop/share/hadoop/hdfs/lib/netty-transport-native-epoll-4.1.89.Final-linux-x86_64.jar:/home/ubuntu/hadoop/share/hadoop/hdfs/lib/netty-codec-socks-4.1.89.Final.jar:/home/ubuntu/hadoop/share/hadoop/hdfs/lib/okhttp-4.9.3.jar:/home/ubuntu/hadoop/share/hadoop/hdfs/lib/jetty-io-9.4.51.v20230217.jar:/home/ubuntu/hadoop/share/hadoop/hdfs/lib/netty-resolver-4.1.89.Final.jar:/home/ubuntu/hadoop/share/hadoop/hdfs/lib/kerby-util-1.0.1.jar:/home/ubuntu/hadoop/share/hadoop/hdfs/lib/jetty-xml-9.4.51.v20230217.jar:/home/ubuntu/hadoop/share/hadoop/hdfs/lib/jcip-annotations-1.0-1.jar:/home/ubuntu/hadoop/share/hadoop/hdfs/lib/kerb-common-1.0.1.jar:/home/ubuntu/hadoop/share/hadoop/hdfs/lib/commons-collections-3.2.2.jar:/home/ubuntu/hadoop/share/hadoop/hdfs/lib/kerb-admin-1.0.1.jar:/home/ubuntu/hadoop/share/hadoop/hdfs/lib/hadoop-annotations-3.3.6.jar:/home/ubuntu/hadoop/share/hadoop/hdfs/lib/guava-27.0-jre.jar:/home/ubuntu/hadoop/share/hadoop/hdfs/lib/kerb-identity-1.0.1.jar:/home/ubuntu/hadoop/share/hadoop/hdfs/lib/kerb-crypto-1.0.1.jar:/home/ubuntu/hadoop/share/hadoop/hdfs/lib/stax2-api-4.2.1.jar:/home/ubuntu/hadoop/share/hadoop/hdfs/lib/gson-2.9.0.jar:/home/ubuntu/hadoop/share/hadoop/hdfs/lib/netty-transport-udt-4.1.89.Final.jar:/home/ubuntu/hadoop/share/hadoop/hdfs/lib/paranamer-2.3.jar:/home/ubuntu/hadoop/share/hadoop/hdfs/lib/httpcore-4.4.13.jar:/home/ubuntu/hadoop/share/hadoop/hdfs/lib/netty-transport-native-kqueue-4.1.89.Final-osx-x86_64.jar:/home/ubuntu/hadoop/share/hadoop/hdfs/lib/snappy-java-1.1.8.2.jar:/home/ubuntu/hadoop/share/hadoop/hdfs/lib/netty-codec-memcache-4.1.89.Final.jar:/home/ubuntu/hadoop/share/hadoop/hdfs/lib/netty-resolver-dns-4.1.89.Final.jar:/home/ubuntu/hadoop/share/hadoop/hdfs/lib/jetty-server-9.4.51.v20230217.jar:/home/ubuntu/hadoop/share/hadoop/hdfs/lib/okio-2.8.0.jar:/home/ubuntu/hadoop/share/hadoop/hdfs/lib/json-simple-1.1.1.jar:/home/ubuntu/hadoop/share/hadoop/hdfs/lib/kerby-xdr-1.0.1.jar:/home/ubuntu/hadoop/share/hadoop/hdfs/lib/audience-annotations-0.5.0.jar:/home/ubuntu/hadoop/share/hadoop/hdfs/lib/kerb-client-1.0.1.jar:/home/ubuntu/hadoop/share/hadoop/hdfs/lib/netty-transport-rxtx-4.1.89.Final.jar:/home/ubuntu/hadoop/share/hadoop/hdfs/lib/commons-math3-3.1.1.jar:/home/ubuntu/hadoop/share/hadoop/hdfs/lib/failureaccess-1.0.jar:/home/ubuntu/hadoop/share/hadoop/hdfs/lib/netty-transport-classes-kqueue-4.1.89.Final.jar:/home/ubuntu/hadoop/share/hadoop/hdfs/lib/netty-codec-http-4.1.89.Final.jar:/home/ubuntu/hadoop/share/hadoop/hdfs/lib/jaxb-api-2.2.11.jar:/home/ubuntu/hadoop/share/hadoop/hdfs/lib/kerb-simplekdc-1.0.1.jar:/home/ubuntu/hadoop/share/hadoop/hdfs/lib/netty-codec-http2-4.1.89.Final.jar:/home/ubuntu/hadoop/share/hadoop/hdfs/lib/re2j-1.1.jar:/home/ubuntu/hadoop/share/hadoop/hdfs/lib/netty-codec-xml-4.1.89.Final.jar:/home/ubuntu/hadoop/share/hadoop/hdfs/lib/netty-transport-native-kqueue-4.1.89.Final-osx-aarch_64.jar:/home/ubuntu/hadoop/share/hadoop/hdfs/lib/netty-transport-sctp-4.1.89.Final.jar:/home/ubuntu/hadoop/share/hadoop/hdfs/lib/jetty-servlet-9.4.51.v20230217.jar:/home/ubuntu/hadoop/share/hadoop/hdfs/lib/javax.servlet-api-3.1.0.jar:/home/ubuntu/hadoop/share/hadoop/hdfs/lib/netty-resolver-dns-classes-macos-4.1.89.Final.jar:/home/ubuntu/hadoop/share/hadoop/hdfs/lib/commons-compress-1.21.jar:/home/ubuntu/hadoop/share/hadoop/hdfs/lib/netty-handler-4.1.89.Final.jar:/home/ubuntu/hadoop/share/hadoop/hdfs/lib/netty-codec-haproxy-4.1.89.Final.jar:/home/ubuntu/hadoop/share/hadoop/hdfs/lib/commons-lang3-3.12.0.jar:/home/ubuntu/hadoop/share/hadoop/hdfs/lib/jettison-1.5.4.jar:/home/ubuntu/hadoop/share/hadoop/hdfs/lib/dnsjava-2.1.7.jar:/home/ubuntu/hadoop/share/hadoop/hdfs/lib/jetty-webapp-9.4.51.v20230217.jar:/home/ubuntu/hadoop/share/hadoop/hdfs/lib/kerb-util-1.0.1.jar:/home/ubuntu/hadoop/share/hadoop/hdfs/lib/reload4j-1.2.22.jar:/home/ubuntu/hadoop/share/hadoop/hdfs/lib/jersey-json-1.20.jar:/home/ubuntu/hadoop/share/hadoop/hdfs/lib/commons-text-1.10.0.jar:/home/ubuntu/hadoop/share/hadoop/hdfs/lib/netty-codec-mqtt-4.1.89.Final.jar:/home/ubuntu/hadoop/share/hadoop/hdfs/lib/zookeeper-jute-3.6.3.jar:/home/ubuntu/hadoop/share/hadoop/hdfs/lib/jackson-core-asl-1.9.13.jar:/home/ubuntu/hadoop/share/hadoop/hdfs/lib/netty-handler-proxy-4.1.89.Final.jar:/home/ubuntu/hadoop/share/hadoop/hdfs/lib/checker-qual-2.5.2.jar:/home/ubuntu/hadoop/share/hadoop/hdfs/lib/commons-codec-1.15.jar:/home/ubuntu/hadoop/share/hadoop/hdfs/lib/netty-codec-stomp-4.1.89.Final.jar:/home/ubuntu/hadoop/share/hadoop/hdfs/lib/HikariCP-java7-2.4.12.jar:/home/ubuntu/hadoop/share/hadoop/hdfs/lib/jetty-util-ajax-9.4.51.v20230217.jar:/home/ubuntu/hadoop/share/hadoop/hdfs/lib/netty-common-4.1.89.Final.jar:/home/ubuntu/hadoop/share/hadoop/hdfs/lib/netty-handler-ssl-ocsp-4.1.89.Final.jar:/home/ubuntu/hadoop/share/hadoop/hdfs/lib/netty-buffer-4.1.89.Final.jar:/home/ubuntu/hadoop/share/hadoop/hdfs/lib/kerby-asn1-1.0.1.jar:/home/ubuntu/hadoop/share/hadoop/hdfs/lib/jackson-annotations-2.12.7.jar:/home/ubuntu/hadoop/share/hadoop/hdfs/lib/netty-codec-dns-4.1.89.Final.jar:/home/ubuntu/hadoop/share/hadoop/hdfs/lib/kerb-server-1.0.1.jar:/home/ubuntu/hadoop/share/hadoop/hdfs/lib/commons-logging-1.1.3.jar:/home/ubuntu/hadoop/share/hadoop/hdfs/lib/jaxb-impl-2.2.3-1.jar:/home/ubuntu/hadoop/share/hadoop/hdfs/lib/netty-transport-4.1.89.Final.jar:/home/ubuntu/hadoop/share/hadoop/hdfs/lib/jackson-core-2.12.7.jar:/home/ubuntu/hadoop/share/hadoop/hdfs/lib/commons-net-3.9.0.jar:/home/ubuntu/hadoop/share/hadoop/hdfs/lib/jsr311-api-1.1.1.jar:/home/ubuntu/hadoop/share/hadoop/hdfs/lib/zookeeper-3.6.3.jar:/home/ubuntu/hadoop/share/hadoop/hdfs/lib/listenablefuture-9999.0-empty-to-avoid-conflict-with-guava.jar:/home/ubuntu/hadoop/share/hadoop/hdfs/lib/commons-cli-1.2.jar:/home/ubuntu/hadoop/share/hadoop/hdfs/lib/jersey-core-1.19.4.jar:/home/ubuntu/hadoop/share/hadoop/hdfs/lib/hadoop-auth-3.3.6.jar:/home/ubuntu/hadoop/share/hadoop/hdfs/lib/netty-transport-classes-epoll-4.1.89.Final.jar:/home/ubuntu/hadoop/share/hadoop/hdfs/lib/netty-codec-redis-4.1.89.Final.jar:/home/ubuntu/hadoop/share/hadoop/hdfs/lib/kotlin-stdlib-1.4.10.jar:/home/ubuntu/hadoop/share/hadoop/hdfs/lib/commons-io-2.8.0.jar:/home/ubuntu/hadoop/share/hadoop/hdfs/lib/jetty-http-9.4.51.v20230217.jar:/home/ubuntu/hadoop/share/hadoop/hdfs/lib/hadoop-shaded-guava-1.1.1.jar:/home/ubuntu/hadoop/share/hadoop/hdfs/lib/jetty-util-9.4.51.v20230217.jar:/home/ubuntu/hadoop/share/hadoop/hdfs/lib/netty-transport-native-unix-common-4.1.89.Final.jar:/home/ubuntu/hadoop/share/hadoop/hdfs/lib/jersey-servlet-1.19.4.jar:/home/ubuntu/hadoop/share/hadoop/hdfs/lib/curator-recipes-5.2.0.jar:/home/ubuntu/hadoop/share/hadoop/hdfs/lib/jersey-server-1.19.4.jar:/home/ubuntu/hadoop/share/hadoop/hdfs/lib/hadoop-shaded-protobuf_3_7-1.1.1.jar:/home/ubuntu/hadoop/share/hadoop/hdfs/lib/jetty-security-9.4.51.v20230217.jar:/home/ubuntu/hadoop/share/hadoop/hdfs/lib/jackson-databind-2.12.7.1.jar:/home/ubuntu/hadoop/share/hadoop/hdfs/lib/commons-configuration2-2.8.0.jar:/home/ubuntu/hadoop/share/hadoop/hdfs/lib/avro-1.7.7.jar:/home/ubuntu/hadoop/share/hadoop/hdfs/lib/j2objc-annotations-1.1.jar:/home/ubuntu/hadoop/share/hadoop/hdfs/lib/commons-beanutils-1.9.4.jar:/home/ubuntu/hadoop/share/hadoop/hdfs/lib/kerby-config-1.0.1.jar:/home/ubuntu/hadoop/share/hadoop/hdfs/lib/netty-3.10.6.Final.jar:/home/ubuntu/hadoop/share/hadoop/hdfs/lib/kerb-core-1.0.1.jar:/home/ubuntu/hadoop/share/hadoop/hdfs/lib/nimbus-jose-jwt-9.8.1.jar:/home/ubuntu/hadoop/share/hadoop/hdfs/lib/metrics-core-3.2.4.jar:/home/ubuntu/hadoop/share/hadoop/hdfs/lib/protobuf-java-2.5.0.jar:/home/ubuntu/hadoop/share/hadoop/hdfs/lib/netty-codec-smtp-4.1.89.Final.jar:/home/ubuntu/hadoop/share/hadoop/hdfs/lib/jsr305-3.0.2.jar:/home/ubuntu/hadoop/share/hadoop/hdfs/lib/woodstox-core-5.4.0.jar:/home/ubuntu/hadoop/share/hadoop/hdfs/lib/netty-codec-4.1.89.Final.jar:/home/ubuntu/hadoop/share/hadoop/hdfs/lib/netty-resolver-dns-native-macos-4.1.89.Final-osx-x86_64.jar:/home/ubuntu/hadoop/share/hadoop/hdfs/lib/token-provider-1.0.1.jar:/home/ubuntu/hadoop/share/hadoop/hdfs/lib/commons-daemon-1.0.13.jar:/home/ubuntu/hadoop/share/hadoop/hdfs/lib/leveldbjni-all-1.8.jar:/home/ubuntu/hadoop/share/hadoop/hdfs/lib/curator-framework-5.2.0.jar:/home/ubuntu/hadoop/share/hadoop/hdfs/lib/jsch-0.1.55.jar:/home/ubuntu/hadoop/share/hadoop/hdfs/lib/netty-resolver-dns-native-macos-4.1.89.Final-osx-aarch_64.jar:/home/ubuntu/hadoop/share/hadoop/hdfs/lib/netty-all-4.1.89.Final.jar:/home/ubuntu/hadoop/share/hadoop/hdfs/lib/kerby-pkix-1.0.1.jar:/home/ubuntu/hadoop/share/hadoop/hdfs/hadoop-hdfs-3.3.6.jar:/home/ubuntu/hadoop/share/hadoop/hdfs/hadoop-hdfs-rbf-3.3.6.jar:/home/ubuntu/hadoop/share/hadoop/hdfs/hadoop-hdfs-nfs-3.3.6.jar:/home/ubuntu/hadoop/share/hadoop/hdfs/hadoop-hdfs-rbf-3.3.6-tests.jar:/home/ubuntu/hadoop/share/hadoop/hdfs/hadoop-hdfs-native-client-3.3.6.jar:/home/ubuntu/hadoop/share/hadoop/hdfs/hadoop-hdfs-client-3.3.6.jar:/home/ubuntu/hadoop/share/hadoop/hdfs/hadoop-hdfs-httpfs-3.3.6.jar:/home/ubuntu/hadoop/share/hadoop/hdfs/hadoop-hdfs-native-client-3.3.6-tests.jar:/home/ubuntu/hadoop/share/hadoop/hdfs/hadoop-hdfs-3.3.6-tests.jar:/home/ubuntu/hadoop/share/hadoop/hdfs/hadoop-hdfs-client-3.3.6-tests.jar:/home/ubuntu/hadoop/share/hadoop/mapreduce/hadoop-mapreduce-client-common-3.3.6.jar:/home/ubuntu/hadoop/share/hadoop/mapreduce/hadoop-mapreduce-client-shuffle-3.3.6.jar:/home/ubuntu/hadoop/share/hadoop/mapreduce/hadoop-mapreduce-client-hs-plugins-3.3.6.jar:/home/ubuntu/hadoop/share/hadoop/mapreduce/hadoop-mapreduce-client-jobclient-3.3.6-tests.jar:/home/ubuntu/hadoop/share/hadoop/mapreduce/hadoop-mapreduce-client-uploader-3.3.6.jar:/home/ubuntu/hadoop/share/hadoop/mapreduce/hadoop-mapreduce-client-nativetask-3.3.6.jar:/home/ubuntu/hadoop/share/hadoop/mapreduce/hadoop-mapreduce-examples-3.3.6.jar:/home/ubuntu/hadoop/share/hadoop/mapreduce/hadoop-mapreduce-client-jobclient-3.3.6.jar:/home/ubuntu/hadoop/share/hadoop/mapreduce/hadoop-mapreduce-client-core-3.3.6.jar:/home/ubuntu/hadoop/share/hadoop/mapreduce/hadoop-mapreduce-client-app-3.3.6.jar:/home/ubuntu/hadoop/share/hadoop/mapreduce/hadoop-mapreduce-client-hs-3.3.6.jar:/home/ubuntu/hadoop/share/hadoop/yarn:/home/ubuntu/hadoop/share/hadoop/yarn/lib/jline-3.9.0.jar:/home/ubuntu/hadoop/share/hadoop/yarn/lib/jetty-jndi-9.4.51.v20230217.jar:/home/ubuntu/hadoop/share/hadoop/yarn/lib/objenesis-2.6.jar:/home/ubuntu/hadoop/share/hadoop/yarn/lib/aopalliance-1.0.jar:/home/ubuntu/hadoop/share/hadoop/yarn/lib/javax-websocket-server-impl-9.4.51.v20230217.jar:/home/ubuntu/hadoop/share/hadoop/yarn/lib/jetty-client-9.4.51.v20230217.jar:/home/ubuntu/hadoop/share/hadoop/yarn/lib/javax.websocket-client-api-1.0.jar:/home/ubuntu/hadoop/share/hadoop/yarn/lib/json-io-2.5.1.jar:/home/ubuntu/hadoop/share/hadoop/yarn/lib/websocket-api-9.4.51.v20230217.jar:/home/ubuntu/hadoop/share/hadoop/yarn/lib/bcpkix-jdk15on-1.68.jar:/home/ubuntu/hadoop/share/hadoop/yarn/lib/ehcache-3.3.1.jar:/home/ubuntu/hadoop/share/hadoop/yarn/lib/websocket-client-9.4.51.v20230217.jar:/home/ubuntu/hadoop/share/hadoop/yarn/lib/javax-websocket-client-impl-9.4.51.v20230217.jar:/home/ubuntu/hadoop/share/hadoop/yarn/lib/swagger-annotations-1.5.4.jar:/home/ubuntu/hadoop/share/hadoop/yarn/lib/jetty-plus-9.4.51.v20230217.jar:/home/ubuntu/hadoop/share/hadoop/yarn/lib/mssql-jdbc-6.2.1.jre7.jar:/home/ubuntu/hadoop/share/hadoop/yarn/lib/jackson-module-jaxb-annotations-2.12.7.jar:/home/ubuntu/hadoop/share/hadoop/yarn/lib/javax.websocket-api-1.0.jar:/home/ubuntu/hadoop/share/hadoop/yarn/lib/jna-5.2.0.jar:/home/ubuntu/hadoop/share/hadoop/yarn/lib/snakeyaml-2.0.jar:/home/ubuntu/hadoop/share/hadoop/yarn/lib/asm-tree-9.4.jar:/home/ubuntu/hadoop/share/hadoop/yarn/lib/jakarta.xml.bind-api-2.3.2.jar:/home/ubuntu/hadoop/share/hadoop/yarn/lib/guice-4.0.jar:/home/ubuntu/hadoop/share/hadoop/yarn/lib/jackson-jaxrs-base-2.12.7.jar:/home/ubuntu/hadoop/share/hadoop/yarn/lib/jetty-annotations-9.4.51.v20230217.jar:/home/ubuntu/hadoop/share/hadoop/yarn/lib/websocket-common-9.4.51.v20230217.jar:/home/ubuntu/hadoop/share/hadoop/yarn/lib/fst-2.50.jar:/home/ubuntu/hadoop/share/hadoop/yarn/lib/jersey-client-1.19.4.jar:/home/ubuntu/hadoop/share/hadoop/yarn/lib/guice-servlet-4.0.jar:/home/ubuntu/hadoop/share/hadoop/yarn/lib/asm-commons-9.4.jar:/home/ubuntu/hadoop/share/hadoop/yarn/lib/java-util-1.9.0.jar:/home/ubuntu/hadoop/share/hadoop/yarn/lib/websocket-server-9.4.51.v20230217.jar:/home/ubuntu/hadoop/share/hadoop/yarn/lib/jersey-guice-1.19.4.jar:/home/ubuntu/hadoop/share/hadoop/yarn/lib/geronimo-jcache_1.0_spec-1.0-alpha-1.jar:/home/ubuntu/hadoop/share/hadoop/yarn/lib/websocket-servlet-9.4.51.v20230217.jar:/home/ubuntu/hadoop/share/hadoop/yarn/lib/javax.inject-1.jar:/home/ubuntu/hadoop/share/hadoop/yarn/lib/bcprov-jdk15on-1.68.jar:/home/ubuntu/hadoop/share/hadoop/yarn/lib/jackson-jaxrs-json-provider-2.12.7.jar:/home/ubuntu/hadoop/share/hadoop/yarn/hadoop-yarn-applications-distributedshell-3.3.6.jar:/home/ubuntu/hadoop/share/hadoop/yarn/hadoop-yarn-applications-unmanaged-am-launcher-3.3.6.jar:/home/ubuntu/hadoop/share/hadoop/yarn/hadoop-yarn-services-api-3.3.6.jar:/home/ubuntu/hadoop/share/hadoop/yarn/hadoop-yarn-services-core-3.3.6.jar:/home/ubuntu/hadoop/share/hadoop/yarn/hadoop-yarn-common-3.3.6.jar:/home/ubuntu/hadoop/share/hadoop/yarn/hadoop-yarn-api-3.3.6.jar:/home/ubuntu/hadoop/share/hadoop/yarn/hadoop-yarn-server-tests-3.3.6.jar:/home/ubuntu/hadoop/share/hadoop/yarn/hadoop-yarn-server-router-3.3.6.jar:/home/ubuntu/hadoop/share/hadoop/yarn/hadoop-yarn-server-web-proxy-3.3.6.jar:/home/ubuntu/hadoop/share/hadoop/yarn/hadoop-yarn-server-resourcemanager-3.3.6.jar:/home/ubuntu/hadoop/share/hadoop/yarn/hadoop-yarn-server-applicationhistoryservice-3.3.6.jar:/home/ubuntu/hadoop/share/hadoop/yarn/hadoop-yarn-applications-mawo-core-3.3.6.jar:/home/ubuntu/hadoop/share/hadoop/yarn/hadoop-yarn-registry-3.3.6.jar:/home/ubuntu/hadoop/share/hadoop/yarn/hadoop-yarn-server-sharedcachemanager-3.3.6.jar:/home/ubuntu/hadoop/share/hadoop/yarn/hadoop-yarn-server-common-3.3.6.jar:/home/ubuntu/hadoop/share/hadoop/yarn/hadoop-yarn-client-3.3.6.jar:/home/ubuntu/hadoop/share/hadoop/yarn/hadoop-yarn-server-nodemanager-3.3.6.jar:/home/ubuntu/hadoop/share/hadoop/yarn/hadoop-yarn-server-timeline-pluginstorage-3.3.6.jar\n",
      "STARTUP_MSG:   build = https://github.com/apache/hadoop.git -r 1be78238728da9266a4f88195058f08fd012bf9c; compiled by 'ubuntu' on 2023-06-18T08:22Z\n",
      "STARTUP_MSG:   java = 1.8.0_392\n",
      "************************************************************/\n",
      "2023-12-08 00:43:03,359 INFO namenode.NameNode: registered UNIX signal handlers for [TERM, HUP, INT]\n",
      "2023-12-08 00:43:03,418 INFO namenode.NameNode: createNameNode [-format]\n",
      "2023-12-08 00:43:03,679 INFO namenode.NameNode: Formatting using clusterid: CID-b6f7fd97-4a69-4f2e-a256-e982f6965091\n",
      "2023-12-08 00:43:03,707 INFO namenode.FSEditLog: Edit logging is async:true\n",
      "2023-12-08 00:43:03,730 INFO namenode.FSNamesystem: KeyProvider: null\n",
      "2023-12-08 00:43:03,732 INFO namenode.FSNamesystem: fsLock is fair: true\n",
      "2023-12-08 00:43:03,732 INFO namenode.FSNamesystem: Detailed lock hold time metrics enabled: false\n",
      "2023-12-08 00:43:03,736 INFO namenode.FSNamesystem: fsOwner                = ubuntu (auth:SIMPLE)\n",
      "2023-12-08 00:43:03,736 INFO namenode.FSNamesystem: supergroup             = supergroup\n",
      "2023-12-08 00:43:03,736 INFO namenode.FSNamesystem: isPermissionEnabled    = true\n",
      "2023-12-08 00:43:03,736 INFO namenode.FSNamesystem: isStoragePolicyEnabled = true\n",
      "2023-12-08 00:43:03,737 INFO namenode.FSNamesystem: HA Enabled: false\n",
      "2023-12-08 00:43:03,773 INFO common.Util: dfs.datanode.fileio.profiling.sampling.percentage set to 0. Disabling file IO profiling\n",
      "2023-12-08 00:43:03,887 INFO blockmanagement.DatanodeManager: dfs.block.invalidate.limit : configured=1000, counted=60, effected=1000\n",
      "2023-12-08 00:43:03,888 INFO blockmanagement.DatanodeManager: dfs.namenode.datanode.registration.ip-hostname-check=true\n",
      "2023-12-08 00:43:03,890 INFO blockmanagement.BlockManager: dfs.namenode.startup.delay.block.deletion.sec is set to 000:00:00:00.000\n",
      "2023-12-08 00:43:03,890 INFO blockmanagement.BlockManager: The block deletion will start around 2023 Dec 08 00:43:03\n",
      "2023-12-08 00:43:03,891 INFO util.GSet: Computing capacity for map BlocksMap\n",
      "2023-12-08 00:43:03,892 INFO util.GSet: VM type       = 64-bit\n",
      "2023-12-08 00:43:03,892 INFO util.GSet: 2.0% max memory 1.7 GB = 35.4 MB\n",
      "2023-12-08 00:43:03,892 INFO util.GSet: capacity      = 2^22 = 4194304 entries\n",
      "2023-12-08 00:43:03,899 INFO blockmanagement.BlockManager: Storage policy satisfier is disabled\n",
      "2023-12-08 00:43:03,900 INFO blockmanagement.BlockManager: dfs.block.access.token.enable = false\n",
      "2023-12-08 00:43:03,904 INFO blockmanagement.BlockManagerSafeMode: dfs.namenode.safemode.threshold-pct = 0.999\n",
      "2023-12-08 00:43:03,904 INFO blockmanagement.BlockManagerSafeMode: dfs.namenode.safemode.min.datanodes = 0\n",
      "2023-12-08 00:43:03,905 INFO blockmanagement.BlockManagerSafeMode: dfs.namenode.safemode.extension = 30000\n",
      "2023-12-08 00:43:03,906 INFO blockmanagement.BlockManager: defaultReplication         = 2\n",
      "2023-12-08 00:43:03,906 INFO blockmanagement.BlockManager: maxReplication             = 512\n",
      "2023-12-08 00:43:03,906 INFO blockmanagement.BlockManager: minReplication             = 1\n",
      "2023-12-08 00:43:03,906 INFO blockmanagement.BlockManager: maxReplicationStreams      = 2\n",
      "2023-12-08 00:43:03,906 INFO blockmanagement.BlockManager: redundancyRecheckInterval  = 3000ms\n",
      "2023-12-08 00:43:03,906 INFO blockmanagement.BlockManager: encryptDataTransfer        = false\n",
      "2023-12-08 00:43:03,906 INFO blockmanagement.BlockManager: maxNumBlocksToLog          = 1000\n",
      "2023-12-08 00:43:03,935 INFO namenode.FSDirectory: GLOBAL serial map: bits=29 maxEntries=536870911\n",
      "2023-12-08 00:43:03,935 INFO namenode.FSDirectory: USER serial map: bits=24 maxEntries=16777215\n",
      "2023-12-08 00:43:03,935 INFO namenode.FSDirectory: GROUP serial map: bits=24 maxEntries=16777215\n",
      "2023-12-08 00:43:03,935 INFO namenode.FSDirectory: XATTR serial map: bits=24 maxEntries=16777215\n",
      "2023-12-08 00:43:03,944 INFO util.GSet: Computing capacity for map INodeMap\n",
      "2023-12-08 00:43:03,944 INFO util.GSet: VM type       = 64-bit\n",
      "2023-12-08 00:43:03,944 INFO util.GSet: 1.0% max memory 1.7 GB = 17.7 MB\n",
      "2023-12-08 00:43:03,944 INFO util.GSet: capacity      = 2^21 = 2097152 entries\n",
      "2023-12-08 00:43:03,997 INFO namenode.FSDirectory: ACLs enabled? true\n",
      "2023-12-08 00:43:03,997 INFO namenode.FSDirectory: POSIX ACL inheritance enabled? true\n",
      "2023-12-08 00:43:03,997 INFO namenode.FSDirectory: XAttrs enabled? true\n",
      "2023-12-08 00:43:03,998 INFO namenode.NameNode: Caching file names occurring more than 10 times\n",
      "2023-12-08 00:43:04,003 INFO snapshot.SnapshotManager: Loaded config captureOpenFiles: false, skipCaptureAccessTimeOnlyChange: false, snapshotDiffAllowSnapRootDescendant: true, maxSnapshotLimit: 65536\n",
      "2023-12-08 00:43:04,005 INFO snapshot.SnapshotManager: SkipList is disabled\n",
      "2023-12-08 00:43:04,008 INFO util.GSet: Computing capacity for map cachedBlocks\n",
      "2023-12-08 00:43:04,008 INFO util.GSet: VM type       = 64-bit\n",
      "2023-12-08 00:43:04,008 INFO util.GSet: 0.25% max memory 1.7 GB = 4.4 MB\n",
      "2023-12-08 00:43:04,008 INFO util.GSet: capacity      = 2^19 = 524288 entries\n",
      "2023-12-08 00:43:04,014 INFO metrics.TopMetrics: NNTop conf: dfs.namenode.top.window.num.buckets = 10\n",
      "2023-12-08 00:43:04,014 INFO metrics.TopMetrics: NNTop conf: dfs.namenode.top.num.users = 10\n",
      "2023-12-08 00:43:04,014 INFO metrics.TopMetrics: NNTop conf: dfs.namenode.top.windows.minutes = 1,5,25\n",
      "2023-12-08 00:43:04,017 INFO namenode.FSNamesystem: Retry cache on namenode is enabled\n",
      "2023-12-08 00:43:04,017 INFO namenode.FSNamesystem: Retry cache will use 0.03 of total heap and retry cache entry expiry time is 600000 millis\n",
      "2023-12-08 00:43:04,018 INFO util.GSet: Computing capacity for map NameNodeRetryCache\n",
      "2023-12-08 00:43:04,018 INFO util.GSet: VM type       = 64-bit\n",
      "2023-12-08 00:43:04,018 INFO util.GSet: 0.029999999329447746% max memory 1.7 GB = 543.4 KB\n",
      "2023-12-08 00:43:04,018 INFO util.GSet: capacity      = 2^16 = 65536 entries\n",
      "2023-12-08 00:43:04,039 INFO namenode.FSImage: Allocated new BlockPoolId: BP-711491406-10.0.0.2-1701996184033\n",
      "2023-12-08 00:43:04,057 INFO common.Storage: Storage directory /usr/local/hadoop/hdfs/namenode/data has been successfully formatted.\n",
      "2023-12-08 00:43:04,145 INFO namenode.FSImageFormatProtobuf: Saving image file /usr/local/hadoop/hdfs/namenode/data/current/fsimage.ckpt_0000000000000000000 using no compression\n",
      "2023-12-08 00:43:04,222 INFO namenode.FSImageFormatProtobuf: Image file /usr/local/hadoop/hdfs/namenode/data/current/fsimage.ckpt_0000000000000000000 of size 401 bytes saved in 0 seconds .\n",
      "2023-12-08 00:43:04,227 INFO namenode.NNStorageRetentionManager: Going to retain 1 images with txid >= 0\n",
      "2023-12-08 00:43:04,247 INFO namenode.FSNamesystem: Stopping services started for active state\n",
      "2023-12-08 00:43:04,248 INFO namenode.FSNamesystem: Stopping services started for standby state\n",
      "2023-12-08 00:43:04,254 INFO namenode.FSImage: FSImageSaver clean checkpoint: txid=0 when meet shutdown.\n",
      "2023-12-08 00:43:04,255 INFO namenode.NameNode: SHUTDOWN_MSG: \n",
      "/************************************************************\n",
      "SHUTDOWN_MSG: Shutting down NameNode at svr0/10.0.0.2\n",
      "************************************************************/\n",
      " \u001b[0m"
     ]
    },
    {
     "data": {
      "text/plain": [
       "('',\n",
       " \"WARNING: /home/ubuntu/hadoop/logs does not exist. Creating.\\n2023-12-08 00:43:03,353 INFO namenode.NameNode: STARTUP_MSG: \\n/************************************************************\\nSTARTUP_MSG: Starting NameNode\\nSTARTUP_MSG:   host = svr0/10.0.0.2\\nSTARTUP_MSG:   args = [-format]\\nSTARTUP_MSG:   version = 3.3.6\\nSTARTUP_MSG:   classpath = /home/ubuntu/hadoop/etc/hadoop:/home/ubuntu/hadoop/share/hadoop/common/lib/netty-transport-native-epoll-4.1.89.Final-linux-aarch_64.jar:/home/ubuntu/hadoop/share/hadoop/common/lib/jakarta.activation-api-1.2.1.jar:/home/ubuntu/hadoop/share/hadoop/common/lib/curator-client-5.2.0.jar:/home/ubuntu/hadoop/share/hadoop/common/lib/animal-sniffer-annotations-1.17.jar:/home/ubuntu/hadoop/share/hadoop/common/lib/httpclient-4.5.13.jar:/home/ubuntu/hadoop/share/hadoop/common/lib/jackson-mapper-asl-1.9.13.jar:/home/ubuntu/hadoop/share/hadoop/common/lib/netty-transport-native-epoll-4.1.89.Final-linux-x86_64.jar:/home/ubuntu/hadoop/share/hadoop/common/lib/netty-codec-socks-4.1.89.Final.jar:/home/ubuntu/hadoop/share/hadoop/common/lib/jetty-io-9.4.51.v20230217.jar:/home/ubuntu/hadoop/share/hadoop/common/lib/netty-resolver-4.1.89.Final.jar:/home/ubuntu/hadoop/share/hadoop/common/lib/kerby-util-1.0.1.jar:/home/ubuntu/hadoop/share/hadoop/common/lib/jetty-xml-9.4.51.v20230217.jar:/home/ubuntu/hadoop/share/hadoop/common/lib/jcip-annotations-1.0-1.jar:/home/ubuntu/hadoop/share/hadoop/common/lib/kerb-common-1.0.1.jar:/home/ubuntu/hadoop/share/hadoop/common/lib/commons-collections-3.2.2.jar:/home/ubuntu/hadoop/share/hadoop/common/lib/kerb-admin-1.0.1.jar:/home/ubuntu/hadoop/share/hadoop/common/lib/hadoop-annotations-3.3.6.jar:/home/ubuntu/hadoop/share/hadoop/common/lib/guava-27.0-jre.jar:/home/ubuntu/hadoop/share/hadoop/common/lib/kerb-identity-1.0.1.jar:/home/ubuntu/hadoop/share/hadoop/common/lib/kerb-crypto-1.0.1.jar:/home/ubuntu/hadoop/share/hadoop/common/lib/stax2-api-4.2.1.jar:/home/ubuntu/hadoop/share/hadoop/common/lib/gson-2.9.0.jar:/home/ubuntu/hadoop/share/hadoop/common/lib/netty-transport-udt-4.1.89.Final.jar:/home/ubuntu/hadoop/share/hadoop/common/lib/paranamer-2.3.jar:/home/ubuntu/hadoop/share/hadoop/common/lib/httpcore-4.4.13.jar:/home/ubuntu/hadoop/share/hadoop/common/lib/netty-transport-native-kqueue-4.1.89.Final-osx-x86_64.jar:/home/ubuntu/hadoop/share/hadoop/common/lib/snappy-java-1.1.8.2.jar:/home/ubuntu/hadoop/share/hadoop/common/lib/netty-codec-memcache-4.1.89.Final.jar:/home/ubuntu/hadoop/share/hadoop/common/lib/netty-resolver-dns-4.1.89.Final.jar:/home/ubuntu/hadoop/share/hadoop/common/lib/jetty-server-9.4.51.v20230217.jar:/home/ubuntu/hadoop/share/hadoop/common/lib/kerby-xdr-1.0.1.jar:/home/ubuntu/hadoop/share/hadoop/common/lib/slf4j-api-1.7.36.jar:/home/ubuntu/hadoop/share/hadoop/common/lib/audience-annotations-0.5.0.jar:/home/ubuntu/hadoop/share/hadoop/common/lib/kerb-client-1.0.1.jar:/home/ubuntu/hadoop/share/hadoop/common/lib/netty-transport-rxtx-4.1.89.Final.jar:/home/ubuntu/hadoop/share/hadoop/common/lib/commons-math3-3.1.1.jar:/home/ubuntu/hadoop/share/hadoop/common/lib/failureaccess-1.0.jar:/home/ubuntu/hadoop/share/hadoop/common/lib/netty-transport-classes-kqueue-4.1.89.Final.jar:/home/ubuntu/hadoop/share/hadoop/common/lib/netty-codec-http-4.1.89.Final.jar:/home/ubuntu/hadoop/share/hadoop/common/lib/jaxb-api-2.2.11.jar:/home/ubuntu/hadoop/share/hadoop/common/lib/kerb-simplekdc-1.0.1.jar:/home/ubuntu/hadoop/share/hadoop/common/lib/netty-codec-http2-4.1.89.Final.jar:/home/ubuntu/hadoop/share/hadoop/common/lib/re2j-1.1.jar:/home/ubuntu/hadoop/share/hadoop/common/lib/netty-codec-xml-4.1.89.Final.jar:/home/ubuntu/hadoop/share/hadoop/common/lib/netty-transport-native-kqueue-4.1.89.Final-osx-aarch_64.jar:/home/ubuntu/hadoop/share/hadoop/common/lib/netty-transport-sctp-4.1.89.Final.jar:/home/ubuntu/hadoop/share/hadoop/common/lib/jetty-servlet-9.4.51.v20230217.jar:/home/ubuntu/hadoop/share/hadoop/common/lib/javax.servlet-api-3.1.0.jar:/home/ubuntu/hadoop/share/hadoop/common/lib/netty-resolver-dns-classes-macos-4.1.89.Final.jar:/home/ubuntu/hadoop/share/hadoop/common/lib/commons-compress-1.21.jar:/home/ubuntu/hadoop/share/hadoop/common/lib/netty-handler-4.1.89.Final.jar:/home/ubuntu/hadoop/share/hadoop/common/lib/netty-codec-haproxy-4.1.89.Final.jar:/home/ubuntu/hadoop/share/hadoop/common/lib/commons-lang3-3.12.0.jar:/home/ubuntu/hadoop/share/hadoop/common/lib/jettison-1.5.4.jar:/home/ubuntu/hadoop/share/hadoop/common/lib/dnsjava-2.1.7.jar:/home/ubuntu/hadoop/share/hadoop/common/lib/jetty-webapp-9.4.51.v20230217.jar:/home/ubuntu/hadoop/share/hadoop/common/lib/kerb-util-1.0.1.jar:/home/ubuntu/hadoop/share/hadoop/common/lib/reload4j-1.2.22.jar:/home/ubuntu/hadoop/share/hadoop/common/lib/jersey-json-1.20.jar:/home/ubuntu/hadoop/share/hadoop/common/lib/commons-text-1.10.0.jar:/home/ubuntu/hadoop/share/hadoop/common/lib/netty-codec-mqtt-4.1.89.Final.jar:/home/ubuntu/hadoop/share/hadoop/common/lib/zookeeper-jute-3.6.3.jar:/home/ubuntu/hadoop/share/hadoop/common/lib/jackson-core-asl-1.9.13.jar:/home/ubuntu/hadoop/share/hadoop/common/lib/netty-handler-proxy-4.1.89.Final.jar:/home/ubuntu/hadoop/share/hadoop/common/lib/checker-qual-2.5.2.jar:/home/ubuntu/hadoop/share/hadoop/common/lib/commons-codec-1.15.jar:/home/ubuntu/hadoop/share/hadoop/common/lib/netty-codec-stomp-4.1.89.Final.jar:/home/ubuntu/hadoop/share/hadoop/common/lib/slf4j-reload4j-1.7.36.jar:/home/ubuntu/hadoop/share/hadoop/common/lib/jetty-util-ajax-9.4.51.v20230217.jar:/home/ubuntu/hadoop/share/hadoop/common/lib/netty-common-4.1.89.Final.jar:/home/ubuntu/hadoop/share/hadoop/common/lib/netty-handler-ssl-ocsp-4.1.89.Final.jar:/home/ubuntu/hadoop/share/hadoop/common/lib/netty-buffer-4.1.89.Final.jar:/home/ubuntu/hadoop/share/hadoop/common/lib/kerby-asn1-1.0.1.jar:/home/ubuntu/hadoop/share/hadoop/common/lib/jackson-annotations-2.12.7.jar:/home/ubuntu/hadoop/share/hadoop/common/lib/netty-codec-dns-4.1.89.Final.jar:/home/ubuntu/hadoop/share/hadoop/common/lib/kerb-server-1.0.1.jar:/home/ubuntu/hadoop/share/hadoop/common/lib/commons-logging-1.1.3.jar:/home/ubuntu/hadoop/share/hadoop/common/lib/jsp-api-2.1.jar:/home/ubuntu/hadoop/share/hadoop/common/lib/jaxb-impl-2.2.3-1.jar:/home/ubuntu/hadoop/share/hadoop/common/lib/netty-transport-4.1.89.Final.jar:/home/ubuntu/hadoop/share/hadoop/common/lib/jackson-core-2.12.7.jar:/home/ubuntu/hadoop/share/hadoop/common/lib/commons-net-3.9.0.jar:/home/ubuntu/hadoop/share/hadoop/common/lib/jsr311-api-1.1.1.jar:/home/ubuntu/hadoop/share/hadoop/common/lib/zookeeper-3.6.3.jar:/home/ubuntu/hadoop/share/hadoop/common/lib/listenablefuture-9999.0-empty-to-avoid-conflict-with-guava.jar:/home/ubuntu/hadoop/share/hadoop/common/lib/commons-cli-1.2.jar:/home/ubuntu/hadoop/share/hadoop/common/lib/jersey-core-1.19.4.jar:/home/ubuntu/hadoop/share/hadoop/common/lib/hadoop-auth-3.3.6.jar:/home/ubuntu/hadoop/share/hadoop/common/lib/netty-transport-classes-epoll-4.1.89.Final.jar:/home/ubuntu/hadoop/share/hadoop/common/lib/netty-codec-redis-4.1.89.Final.jar:/home/ubuntu/hadoop/share/hadoop/common/lib/commons-io-2.8.0.jar:/home/ubuntu/hadoop/share/hadoop/common/lib/jetty-http-9.4.51.v20230217.jar:/home/ubuntu/hadoop/share/hadoop/common/lib/hadoop-shaded-guava-1.1.1.jar:/home/ubuntu/hadoop/share/hadoop/common/lib/jetty-util-9.4.51.v20230217.jar:/home/ubuntu/hadoop/share/hadoop/common/lib/jul-to-slf4j-1.7.36.jar:/home/ubuntu/hadoop/share/hadoop/common/lib/netty-transport-native-unix-common-4.1.89.Final.jar:/home/ubuntu/hadoop/share/hadoop/common/lib/jersey-servlet-1.19.4.jar:/home/ubuntu/hadoop/share/hadoop/common/lib/curator-recipes-5.2.0.jar:/home/ubuntu/hadoop/share/hadoop/common/lib/jersey-server-1.19.4.jar:/home/ubuntu/hadoop/share/hadoop/common/lib/hadoop-shaded-protobuf_3_7-1.1.1.jar:/home/ubuntu/hadoop/share/hadoop/common/lib/jetty-security-9.4.51.v20230217.jar:/home/ubuntu/hadoop/share/hadoop/common/lib/jackson-databind-2.12.7.1.jar:/home/ubuntu/hadoop/share/hadoop/common/lib/commons-configuration2-2.8.0.jar:/home/ubuntu/hadoop/share/hadoop/common/lib/avro-1.7.7.jar:/home/ubuntu/hadoop/share/hadoop/common/lib/j2objc-annotations-1.1.jar:/home/ubuntu/hadoop/share/hadoop/common/lib/commons-beanutils-1.9.4.jar:/home/ubuntu/hadoop/share/hadoop/common/lib/kerby-config-1.0.1.jar:/home/ubuntu/hadoop/share/hadoop/common/lib/kerb-core-1.0.1.jar:/home/ubuntu/hadoop/share/hadoop/common/lib/nimbus-jose-jwt-9.8.1.jar:/home/ubuntu/hadoop/share/hadoop/common/lib/metrics-core-3.2.4.jar:/home/ubuntu/hadoop/share/hadoop/common/lib/protobuf-java-2.5.0.jar:/home/ubuntu/hadoop/share/hadoop/common/lib/netty-codec-smtp-4.1.89.Final.jar:/home/ubuntu/hadoop/share/hadoop/common/lib/jsr305-3.0.2.jar:/home/ubuntu/hadoop/share/hadoop/common/lib/woodstox-core-5.4.0.jar:/home/ubuntu/hadoop/share/hadoop/common/lib/netty-codec-4.1.89.Final.jar:/home/ubuntu/hadoop/share/hadoop/common/lib/netty-resolver-dns-native-macos-4.1.89.Final-osx-x86_64.jar:/home/ubuntu/hadoop/share/hadoop/common/lib/token-provider-1.0.1.jar:/home/ubuntu/hadoop/share/hadoop/common/lib/commons-daemon-1.0.13.jar:/home/ubuntu/hadoop/share/hadoop/common/lib/curator-framework-5.2.0.jar:/home/ubuntu/hadoop/share/hadoop/common/lib/jsch-0.1.55.jar:/home/ubuntu/hadoop/share/hadoop/common/lib/netty-resolver-dns-native-macos-4.1.89.Final-osx-aarch_64.jar:/home/ubuntu/hadoop/share/hadoop/common/lib/netty-all-4.1.89.Final.jar:/home/ubuntu/hadoop/share/hadoop/common/lib/kerby-pkix-1.0.1.jar:/home/ubuntu/hadoop/share/hadoop/common/hadoop-registry-3.3.6.jar:/home/ubuntu/hadoop/share/hadoop/common/hadoop-common-3.3.6.jar:/home/ubuntu/hadoop/share/hadoop/common/hadoop-common-3.3.6-tests.jar:/home/ubuntu/hadoop/share/hadoop/common/hadoop-nfs-3.3.6.jar:/home/ubuntu/hadoop/share/hadoop/common/hadoop-kms-3.3.6.jar:/home/ubuntu/hadoop/share/hadoop/hdfs:/home/ubuntu/hadoop/share/hadoop/hdfs/lib/kotlin-stdlib-common-1.4.10.jar:/home/ubuntu/hadoop/share/hadoop/hdfs/lib/netty-transport-native-epoll-4.1.89.Final-linux-aarch_64.jar:/home/ubuntu/hadoop/share/hadoop/hdfs/lib/jakarta.activation-api-1.2.1.jar:/home/ubuntu/hadoop/share/hadoop/hdfs/lib/curator-client-5.2.0.jar:/home/ubuntu/hadoop/share/hadoop/hdfs/lib/animal-sniffer-annotations-1.17.jar:/home/ubuntu/hadoop/share/hadoop/hdfs/lib/httpclient-4.5.13.jar:/home/ubuntu/hadoop/share/hadoop/hdfs/lib/jackson-mapper-asl-1.9.13.jar:/home/ubuntu/hadoop/share/hadoop/hdfs/lib/netty-transport-native-epoll-4.1.89.Final-linux-x86_64.jar:/home/ubuntu/hadoop/share/hadoop/hdfs/lib/netty-codec-socks-4.1.89.Final.jar:/home/ubuntu/hadoop/share/hadoop/hdfs/lib/okhttp-4.9.3.jar:/home/ubuntu/hadoop/share/hadoop/hdfs/lib/jetty-io-9.4.51.v20230217.jar:/home/ubuntu/hadoop/share/hadoop/hdfs/lib/netty-resolver-4.1.89.Final.jar:/home/ubuntu/hadoop/share/hadoop/hdfs/lib/kerby-util-1.0.1.jar:/home/ubuntu/hadoop/share/hadoop/hdfs/lib/jetty-xml-9.4.51.v20230217.jar:/home/ubuntu/hadoop/share/hadoop/hdfs/lib/jcip-annotations-1.0-1.jar:/home/ubuntu/hadoop/share/hadoop/hdfs/lib/kerb-common-1.0.1.jar:/home/ubuntu/hadoop/share/hadoop/hdfs/lib/commons-collections-3.2.2.jar:/home/ubuntu/hadoop/share/hadoop/hdfs/lib/kerb-admin-1.0.1.jar:/home/ubuntu/hadoop/share/hadoop/hdfs/lib/hadoop-annotations-3.3.6.jar:/home/ubuntu/hadoop/share/hadoop/hdfs/lib/guava-27.0-jre.jar:/home/ubuntu/hadoop/share/hadoop/hdfs/lib/kerb-identity-1.0.1.jar:/home/ubuntu/hadoop/share/hadoop/hdfs/lib/kerb-crypto-1.0.1.jar:/home/ubuntu/hadoop/share/hadoop/hdfs/lib/stax2-api-4.2.1.jar:/home/ubuntu/hadoop/share/hadoop/hdfs/lib/gson-2.9.0.jar:/home/ubuntu/hadoop/share/hadoop/hdfs/lib/netty-transport-udt-4.1.89.Final.jar:/home/ubuntu/hadoop/share/hadoop/hdfs/lib/paranamer-2.3.jar:/home/ubuntu/hadoop/share/hadoop/hdfs/lib/httpcore-4.4.13.jar:/home/ubuntu/hadoop/share/hadoop/hdfs/lib/netty-transport-native-kqueue-4.1.89.Final-osx-x86_64.jar:/home/ubuntu/hadoop/share/hadoop/hdfs/lib/snappy-java-1.1.8.2.jar:/home/ubuntu/hadoop/share/hadoop/hdfs/lib/netty-codec-memcache-4.1.89.Final.jar:/home/ubuntu/hadoop/share/hadoop/hdfs/lib/netty-resolver-dns-4.1.89.Final.jar:/home/ubuntu/hadoop/share/hadoop/hdfs/lib/jetty-server-9.4.51.v20230217.jar:/home/ubuntu/hadoop/share/hadoop/hdfs/lib/okio-2.8.0.jar:/home/ubuntu/hadoop/share/hadoop/hdfs/lib/json-simple-1.1.1.jar:/home/ubuntu/hadoop/share/hadoop/hdfs/lib/kerby-xdr-1.0.1.jar:/home/ubuntu/hadoop/share/hadoop/hdfs/lib/audience-annotations-0.5.0.jar:/home/ubuntu/hadoop/share/hadoop/hdfs/lib/kerb-client-1.0.1.jar:/home/ubuntu/hadoop/share/hadoop/hdfs/lib/netty-transport-rxtx-4.1.89.Final.jar:/home/ubuntu/hadoop/share/hadoop/hdfs/lib/commons-math3-3.1.1.jar:/home/ubuntu/hadoop/share/hadoop/hdfs/lib/failureaccess-1.0.jar:/home/ubuntu/hadoop/share/hadoop/hdfs/lib/netty-transport-classes-kqueue-4.1.89.Final.jar:/home/ubuntu/hadoop/share/hadoop/hdfs/lib/netty-codec-http-4.1.89.Final.jar:/home/ubuntu/hadoop/share/hadoop/hdfs/lib/jaxb-api-2.2.11.jar:/home/ubuntu/hadoop/share/hadoop/hdfs/lib/kerb-simplekdc-1.0.1.jar:/home/ubuntu/hadoop/share/hadoop/hdfs/lib/netty-codec-http2-4.1.89.Final.jar:/home/ubuntu/hadoop/share/hadoop/hdfs/lib/re2j-1.1.jar:/home/ubuntu/hadoop/share/hadoop/hdfs/lib/netty-codec-xml-4.1.89.Final.jar:/home/ubuntu/hadoop/share/hadoop/hdfs/lib/netty-transport-native-kqueue-4.1.89.Final-osx-aarch_64.jar:/home/ubuntu/hadoop/share/hadoop/hdfs/lib/netty-transport-sctp-4.1.89.Final.jar:/home/ubuntu/hadoop/share/hadoop/hdfs/lib/jetty-servlet-9.4.51.v20230217.jar:/home/ubuntu/hadoop/share/hadoop/hdfs/lib/javax.servlet-api-3.1.0.jar:/home/ubuntu/hadoop/share/hadoop/hdfs/lib/netty-resolver-dns-classes-macos-4.1.89.Final.jar:/home/ubuntu/hadoop/share/hadoop/hdfs/lib/commons-compress-1.21.jar:/home/ubuntu/hadoop/share/hadoop/hdfs/lib/netty-handler-4.1.89.Final.jar:/home/ubuntu/hadoop/share/hadoop/hdfs/lib/netty-codec-haproxy-4.1.89.Final.jar:/home/ubuntu/hadoop/share/hadoop/hdfs/lib/commons-lang3-3.12.0.jar:/home/ubuntu/hadoop/share/hadoop/hdfs/lib/jettison-1.5.4.jar:/home/ubuntu/hadoop/share/hadoop/hdfs/lib/dnsjava-2.1.7.jar:/home/ubuntu/hadoop/share/hadoop/hdfs/lib/jetty-webapp-9.4.51.v20230217.jar:/home/ubuntu/hadoop/share/hadoop/hdfs/lib/kerb-util-1.0.1.jar:/home/ubuntu/hadoop/share/hadoop/hdfs/lib/reload4j-1.2.22.jar:/home/ubuntu/hadoop/share/hadoop/hdfs/lib/jersey-json-1.20.jar:/home/ubuntu/hadoop/share/hadoop/hdfs/lib/commons-text-1.10.0.jar:/home/ubuntu/hadoop/share/hadoop/hdfs/lib/netty-codec-mqtt-4.1.89.Final.jar:/home/ubuntu/hadoop/share/hadoop/hdfs/lib/zookeeper-jute-3.6.3.jar:/home/ubuntu/hadoop/share/hadoop/hdfs/lib/jackson-core-asl-1.9.13.jar:/home/ubuntu/hadoop/share/hadoop/hdfs/lib/netty-handler-proxy-4.1.89.Final.jar:/home/ubuntu/hadoop/share/hadoop/hdfs/lib/checker-qual-2.5.2.jar:/home/ubuntu/hadoop/share/hadoop/hdfs/lib/commons-codec-1.15.jar:/home/ubuntu/hadoop/share/hadoop/hdfs/lib/netty-codec-stomp-4.1.89.Final.jar:/home/ubuntu/hadoop/share/hadoop/hdfs/lib/HikariCP-java7-2.4.12.jar:/home/ubuntu/hadoop/share/hadoop/hdfs/lib/jetty-util-ajax-9.4.51.v20230217.jar:/home/ubuntu/hadoop/share/hadoop/hdfs/lib/netty-common-4.1.89.Final.jar:/home/ubuntu/hadoop/share/hadoop/hdfs/lib/netty-handler-ssl-ocsp-4.1.89.Final.jar:/home/ubuntu/hadoop/share/hadoop/hdfs/lib/netty-buffer-4.1.89.Final.jar:/home/ubuntu/hadoop/share/hadoop/hdfs/lib/kerby-asn1-1.0.1.jar:/home/ubuntu/hadoop/share/hadoop/hdfs/lib/jackson-annotations-2.12.7.jar:/home/ubuntu/hadoop/share/hadoop/hdfs/lib/netty-codec-dns-4.1.89.Final.jar:/home/ubuntu/hadoop/share/hadoop/hdfs/lib/kerb-server-1.0.1.jar:/home/ubuntu/hadoop/share/hadoop/hdfs/lib/commons-logging-1.1.3.jar:/home/ubuntu/hadoop/share/hadoop/hdfs/lib/jaxb-impl-2.2.3-1.jar:/home/ubuntu/hadoop/share/hadoop/hdfs/lib/netty-transport-4.1.89.Final.jar:/home/ubuntu/hadoop/share/hadoop/hdfs/lib/jackson-core-2.12.7.jar:/home/ubuntu/hadoop/share/hadoop/hdfs/lib/commons-net-3.9.0.jar:/home/ubuntu/hadoop/share/hadoop/hdfs/lib/jsr311-api-1.1.1.jar:/home/ubuntu/hadoop/share/hadoop/hdfs/lib/zookeeper-3.6.3.jar:/home/ubuntu/hadoop/share/hadoop/hdfs/lib/listenablefuture-9999.0-empty-to-avoid-conflict-with-guava.jar:/home/ubuntu/hadoop/share/hadoop/hdfs/lib/commons-cli-1.2.jar:/home/ubuntu/hadoop/share/hadoop/hdfs/lib/jersey-core-1.19.4.jar:/home/ubuntu/hadoop/share/hadoop/hdfs/lib/hadoop-auth-3.3.6.jar:/home/ubuntu/hadoop/share/hadoop/hdfs/lib/netty-transport-classes-epoll-4.1.89.Final.jar:/home/ubuntu/hadoop/share/hadoop/hdfs/lib/netty-codec-redis-4.1.89.Final.jar:/home/ubuntu/hadoop/share/hadoop/hdfs/lib/kotlin-stdlib-1.4.10.jar:/home/ubuntu/hadoop/share/hadoop/hdfs/lib/commons-io-2.8.0.jar:/home/ubuntu/hadoop/share/hadoop/hdfs/lib/jetty-http-9.4.51.v20230217.jar:/home/ubuntu/hadoop/share/hadoop/hdfs/lib/hadoop-shaded-guava-1.1.1.jar:/home/ubuntu/hadoop/share/hadoop/hdfs/lib/jetty-util-9.4.51.v20230217.jar:/home/ubuntu/hadoop/share/hadoop/hdfs/lib/netty-transport-native-unix-common-4.1.89.Final.jar:/home/ubuntu/hadoop/share/hadoop/hdfs/lib/jersey-servlet-1.19.4.jar:/home/ubuntu/hadoop/share/hadoop/hdfs/lib/curator-recipes-5.2.0.jar:/home/ubuntu/hadoop/share/hadoop/hdfs/lib/jersey-server-1.19.4.jar:/home/ubuntu/hadoop/share/hadoop/hdfs/lib/hadoop-shaded-protobuf_3_7-1.1.1.jar:/home/ubuntu/hadoop/share/hadoop/hdfs/lib/jetty-security-9.4.51.v20230217.jar:/home/ubuntu/hadoop/share/hadoop/hdfs/lib/jackson-databind-2.12.7.1.jar:/home/ubuntu/hadoop/share/hadoop/hdfs/lib/commons-configuration2-2.8.0.jar:/home/ubuntu/hadoop/share/hadoop/hdfs/lib/avro-1.7.7.jar:/home/ubuntu/hadoop/share/hadoop/hdfs/lib/j2objc-annotations-1.1.jar:/home/ubuntu/hadoop/share/hadoop/hdfs/lib/commons-beanutils-1.9.4.jar:/home/ubuntu/hadoop/share/hadoop/hdfs/lib/kerby-config-1.0.1.jar:/home/ubuntu/hadoop/share/hadoop/hdfs/lib/netty-3.10.6.Final.jar:/home/ubuntu/hadoop/share/hadoop/hdfs/lib/kerb-core-1.0.1.jar:/home/ubuntu/hadoop/share/hadoop/hdfs/lib/nimbus-jose-jwt-9.8.1.jar:/home/ubuntu/hadoop/share/hadoop/hdfs/lib/metrics-core-3.2.4.jar:/home/ubuntu/hadoop/share/hadoop/hdfs/lib/protobuf-java-2.5.0.jar:/home/ubuntu/hadoop/share/hadoop/hdfs/lib/netty-codec-smtp-4.1.89.Final.jar:/home/ubuntu/hadoop/share/hadoop/hdfs/lib/jsr305-3.0.2.jar:/home/ubuntu/hadoop/share/hadoop/hdfs/lib/woodstox-core-5.4.0.jar:/home/ubuntu/hadoop/share/hadoop/hdfs/lib/netty-codec-4.1.89.Final.jar:/home/ubuntu/hadoop/share/hadoop/hdfs/lib/netty-resolver-dns-native-macos-4.1.89.Final-osx-x86_64.jar:/home/ubuntu/hadoop/share/hadoop/hdfs/lib/token-provider-1.0.1.jar:/home/ubuntu/hadoop/share/hadoop/hdfs/lib/commons-daemon-1.0.13.jar:/home/ubuntu/hadoop/share/hadoop/hdfs/lib/leveldbjni-all-1.8.jar:/home/ubuntu/hadoop/share/hadoop/hdfs/lib/curator-framework-5.2.0.jar:/home/ubuntu/hadoop/share/hadoop/hdfs/lib/jsch-0.1.55.jar:/home/ubuntu/hadoop/share/hadoop/hdfs/lib/netty-resolver-dns-native-macos-4.1.89.Final-osx-aarch_64.jar:/home/ubuntu/hadoop/share/hadoop/hdfs/lib/netty-all-4.1.89.Final.jar:/home/ubuntu/hadoop/share/hadoop/hdfs/lib/kerby-pkix-1.0.1.jar:/home/ubuntu/hadoop/share/hadoop/hdfs/hadoop-hdfs-3.3.6.jar:/home/ubuntu/hadoop/share/hadoop/hdfs/hadoop-hdfs-rbf-3.3.6.jar:/home/ubuntu/hadoop/share/hadoop/hdfs/hadoop-hdfs-nfs-3.3.6.jar:/home/ubuntu/hadoop/share/hadoop/hdfs/hadoop-hdfs-rbf-3.3.6-tests.jar:/home/ubuntu/hadoop/share/hadoop/hdfs/hadoop-hdfs-native-client-3.3.6.jar:/home/ubuntu/hadoop/share/hadoop/hdfs/hadoop-hdfs-client-3.3.6.jar:/home/ubuntu/hadoop/share/hadoop/hdfs/hadoop-hdfs-httpfs-3.3.6.jar:/home/ubuntu/hadoop/share/hadoop/hdfs/hadoop-hdfs-native-client-3.3.6-tests.jar:/home/ubuntu/hadoop/share/hadoop/hdfs/hadoop-hdfs-3.3.6-tests.jar:/home/ubuntu/hadoop/share/hadoop/hdfs/hadoop-hdfs-client-3.3.6-tests.jar:/home/ubuntu/hadoop/share/hadoop/mapreduce/hadoop-mapreduce-client-common-3.3.6.jar:/home/ubuntu/hadoop/share/hadoop/mapreduce/hadoop-mapreduce-client-shuffle-3.3.6.jar:/home/ubuntu/hadoop/share/hadoop/mapreduce/hadoop-mapreduce-client-hs-plugins-3.3.6.jar:/home/ubuntu/hadoop/share/hadoop/mapreduce/hadoop-mapreduce-client-jobclient-3.3.6-tests.jar:/home/ubuntu/hadoop/share/hadoop/mapreduce/hadoop-mapreduce-client-uploader-3.3.6.jar:/home/ubuntu/hadoop/share/hadoop/mapreduce/hadoop-mapreduce-client-nativetask-3.3.6.jar:/home/ubuntu/hadoop/share/hadoop/mapreduce/hadoop-mapreduce-examples-3.3.6.jar:/home/ubuntu/hadoop/share/hadoop/mapreduce/hadoop-mapreduce-client-jobclient-3.3.6.jar:/home/ubuntu/hadoop/share/hadoop/mapreduce/hadoop-mapreduce-client-core-3.3.6.jar:/home/ubuntu/hadoop/share/hadoop/mapreduce/hadoop-mapreduce-client-app-3.3.6.jar:/home/ubuntu/hadoop/share/hadoop/mapreduce/hadoop-mapreduce-client-hs-3.3.6.jar:/home/ubuntu/hadoop/share/hadoop/yarn:/home/ubuntu/hadoop/share/hadoop/yarn/lib/jline-3.9.0.jar:/home/ubuntu/hadoop/share/hadoop/yarn/lib/jetty-jndi-9.4.51.v20230217.jar:/home/ubuntu/hadoop/share/hadoop/yarn/lib/objenesis-2.6.jar:/home/ubuntu/hadoop/share/hadoop/yarn/lib/aopalliance-1.0.jar:/home/ubuntu/hadoop/share/hadoop/yarn/lib/javax-websocket-server-impl-9.4.51.v20230217.jar:/home/ubuntu/hadoop/share/hadoop/yarn/lib/jetty-client-9.4.51.v20230217.jar:/home/ubuntu/hadoop/share/hadoop/yarn/lib/javax.websocket-client-api-1.0.jar:/home/ubuntu/hadoop/share/hadoop/yarn/lib/json-io-2.5.1.jar:/home/ubuntu/hadoop/share/hadoop/yarn/lib/websocket-api-9.4.51.v20230217.jar:/home/ubuntu/hadoop/share/hadoop/yarn/lib/bcpkix-jdk15on-1.68.jar:/home/ubuntu/hadoop/share/hadoop/yarn/lib/ehcache-3.3.1.jar:/home/ubuntu/hadoop/share/hadoop/yarn/lib/websocket-client-9.4.51.v20230217.jar:/home/ubuntu/hadoop/share/hadoop/yarn/lib/javax-websocket-client-impl-9.4.51.v20230217.jar:/home/ubuntu/hadoop/share/hadoop/yarn/lib/swagger-annotations-1.5.4.jar:/home/ubuntu/hadoop/share/hadoop/yarn/lib/jetty-plus-9.4.51.v20230217.jar:/home/ubuntu/hadoop/share/hadoop/yarn/lib/mssql-jdbc-6.2.1.jre7.jar:/home/ubuntu/hadoop/share/hadoop/yarn/lib/jackson-module-jaxb-annotations-2.12.7.jar:/home/ubuntu/hadoop/share/hadoop/yarn/lib/javax.websocket-api-1.0.jar:/home/ubuntu/hadoop/share/hadoop/yarn/lib/jna-5.2.0.jar:/home/ubuntu/hadoop/share/hadoop/yarn/lib/snakeyaml-2.0.jar:/home/ubuntu/hadoop/share/hadoop/yarn/lib/asm-tree-9.4.jar:/home/ubuntu/hadoop/share/hadoop/yarn/lib/jakarta.xml.bind-api-2.3.2.jar:/home/ubuntu/hadoop/share/hadoop/yarn/lib/guice-4.0.jar:/home/ubuntu/hadoop/share/hadoop/yarn/lib/jackson-jaxrs-base-2.12.7.jar:/home/ubuntu/hadoop/share/hadoop/yarn/lib/jetty-annotations-9.4.51.v20230217.jar:/home/ubuntu/hadoop/share/hadoop/yarn/lib/websocket-common-9.4.51.v20230217.jar:/home/ubuntu/hadoop/share/hadoop/yarn/lib/fst-2.50.jar:/home/ubuntu/hadoop/share/hadoop/yarn/lib/jersey-client-1.19.4.jar:/home/ubuntu/hadoop/share/hadoop/yarn/lib/guice-servlet-4.0.jar:/home/ubuntu/hadoop/share/hadoop/yarn/lib/asm-commons-9.4.jar:/home/ubuntu/hadoop/share/hadoop/yarn/lib/java-util-1.9.0.jar:/home/ubuntu/hadoop/share/hadoop/yarn/lib/websocket-server-9.4.51.v20230217.jar:/home/ubuntu/hadoop/share/hadoop/yarn/lib/jersey-guice-1.19.4.jar:/home/ubuntu/hadoop/share/hadoop/yarn/lib/geronimo-jcache_1.0_spec-1.0-alpha-1.jar:/home/ubuntu/hadoop/share/hadoop/yarn/lib/websocket-servlet-9.4.51.v20230217.jar:/home/ubuntu/hadoop/share/hadoop/yarn/lib/javax.inject-1.jar:/home/ubuntu/hadoop/share/hadoop/yarn/lib/bcprov-jdk15on-1.68.jar:/home/ubuntu/hadoop/share/hadoop/yarn/lib/jackson-jaxrs-json-provider-2.12.7.jar:/home/ubuntu/hadoop/share/hadoop/yarn/hadoop-yarn-applications-distributedshell-3.3.6.jar:/home/ubuntu/hadoop/share/hadoop/yarn/hadoop-yarn-applications-unmanaged-am-launcher-3.3.6.jar:/home/ubuntu/hadoop/share/hadoop/yarn/hadoop-yarn-services-api-3.3.6.jar:/home/ubuntu/hadoop/share/hadoop/yarn/hadoop-yarn-services-core-3.3.6.jar:/home/ubuntu/hadoop/share/hadoop/yarn/hadoop-yarn-common-3.3.6.jar:/home/ubuntu/hadoop/share/hadoop/yarn/hadoop-yarn-api-3.3.6.jar:/home/ubuntu/hadoop/share/hadoop/yarn/hadoop-yarn-server-tests-3.3.6.jar:/home/ubuntu/hadoop/share/hadoop/yarn/hadoop-yarn-server-router-3.3.6.jar:/home/ubuntu/hadoop/share/hadoop/yarn/hadoop-yarn-server-web-proxy-3.3.6.jar:/home/ubuntu/hadoop/share/hadoop/yarn/hadoop-yarn-server-resourcemanager-3.3.6.jar:/home/ubuntu/hadoop/share/hadoop/yarn/hadoop-yarn-server-applicationhistoryservice-3.3.6.jar:/home/ubuntu/hadoop/share/hadoop/yarn/hadoop-yarn-applications-mawo-core-3.3.6.jar:/home/ubuntu/hadoop/share/hadoop/yarn/hadoop-yarn-registry-3.3.6.jar:/home/ubuntu/hadoop/share/hadoop/yarn/hadoop-yarn-server-sharedcachemanager-3.3.6.jar:/home/ubuntu/hadoop/share/hadoop/yarn/hadoop-yarn-server-common-3.3.6.jar:/home/ubuntu/hadoop/share/hadoop/yarn/hadoop-yarn-client-3.3.6.jar:/home/ubuntu/hadoop/share/hadoop/yarn/hadoop-yarn-server-nodemanager-3.3.6.jar:/home/ubuntu/hadoop/share/hadoop/yarn/hadoop-yarn-server-timeline-pluginstorage-3.3.6.jar\\nSTARTUP_MSG:   build = https://github.com/apache/hadoop.git -r 1be78238728da9266a4f88195058f08fd012bf9c; compiled by 'ubuntu' on 2023-06-18T08:22Z\\nSTARTUP_MSG:   java = 1.8.0_392\\n************************************************************/\\n2023-12-08 00:43:03,359 INFO namenode.NameNode: registered UNIX signal handlers for [TERM, HUP, INT]\\n2023-12-08 00:43:03,418 INFO namenode.NameNode: createNameNode [-format]\\n2023-12-08 00:43:03,679 INFO namenode.NameNode: Formatting using clusterid: CID-b6f7fd97-4a69-4f2e-a256-e982f6965091\\n2023-12-08 00:43:03,707 INFO namenode.FSEditLog: Edit logging is async:true\\n2023-12-08 00:43:03,730 INFO namenode.FSNamesystem: KeyProvider: null\\n2023-12-08 00:43:03,732 INFO namenode.FSNamesystem: fsLock is fair: true\\n2023-12-08 00:43:03,732 INFO namenode.FSNamesystem: Detailed lock hold time metrics enabled: false\\n2023-12-08 00:43:03,736 INFO namenode.FSNamesystem: fsOwner                = ubuntu (auth:SIMPLE)\\n2023-12-08 00:43:03,736 INFO namenode.FSNamesystem: supergroup             = supergroup\\n2023-12-08 00:43:03,736 INFO namenode.FSNamesystem: isPermissionEnabled    = true\\n2023-12-08 00:43:03,736 INFO namenode.FSNamesystem: isStoragePolicyEnabled = true\\n2023-12-08 00:43:03,737 INFO namenode.FSNamesystem: HA Enabled: false\\n2023-12-08 00:43:03,773 INFO common.Util: dfs.datanode.fileio.profiling.sampling.percentage set to 0. Disabling file IO profiling\\n2023-12-08 00:43:03,887 INFO blockmanagement.DatanodeManager: dfs.block.invalidate.limit : configured=1000, counted=60, effected=1000\\n2023-12-08 00:43:03,888 INFO blockmanagement.DatanodeManager: dfs.namenode.datanode.registration.ip-hostname-check=true\\n2023-12-08 00:43:03,890 INFO blockmanagement.BlockManager: dfs.namenode.startup.delay.block.deletion.sec is set to 000:00:00:00.000\\n2023-12-08 00:43:03,890 INFO blockmanagement.BlockManager: The block deletion will start around 2023 Dec 08 00:43:03\\n2023-12-08 00:43:03,891 INFO util.GSet: Computing capacity for map BlocksMap\\n2023-12-08 00:43:03,892 INFO util.GSet: VM type       = 64-bit\\n2023-12-08 00:43:03,892 INFO util.GSet: 2.0% max memory 1.7 GB = 35.4 MB\\n2023-12-08 00:43:03,892 INFO util.GSet: capacity      = 2^22 = 4194304 entries\\n2023-12-08 00:43:03,899 INFO blockmanagement.BlockManager: Storage policy satisfier is disabled\\n2023-12-08 00:43:03,900 INFO blockmanagement.BlockManager: dfs.block.access.token.enable = false\\n2023-12-08 00:43:03,904 INFO blockmanagement.BlockManagerSafeMode: dfs.namenode.safemode.threshold-pct = 0.999\\n2023-12-08 00:43:03,904 INFO blockmanagement.BlockManagerSafeMode: dfs.namenode.safemode.min.datanodes = 0\\n2023-12-08 00:43:03,905 INFO blockmanagement.BlockManagerSafeMode: dfs.namenode.safemode.extension = 30000\\n2023-12-08 00:43:03,906 INFO blockmanagement.BlockManager: defaultReplication         = 2\\n2023-12-08 00:43:03,906 INFO blockmanagement.BlockManager: maxReplication             = 512\\n2023-12-08 00:43:03,906 INFO blockmanagement.BlockManager: minReplication             = 1\\n2023-12-08 00:43:03,906 INFO blockmanagement.BlockManager: maxReplicationStreams      = 2\\n2023-12-08 00:43:03,906 INFO blockmanagement.BlockManager: redundancyRecheckInterval  = 3000ms\\n2023-12-08 00:43:03,906 INFO blockmanagement.BlockManager: encryptDataTransfer        = false\\n2023-12-08 00:43:03,906 INFO blockmanagement.BlockManager: maxNumBlocksToLog          = 1000\\n2023-12-08 00:43:03,935 INFO namenode.FSDirectory: GLOBAL serial map: bits=29 maxEntries=536870911\\n2023-12-08 00:43:03,935 INFO namenode.FSDirectory: USER serial map: bits=24 maxEntries=16777215\\n2023-12-08 00:43:03,935 INFO namenode.FSDirectory: GROUP serial map: bits=24 maxEntries=16777215\\n2023-12-08 00:43:03,935 INFO namenode.FSDirectory: XATTR serial map: bits=24 maxEntries=16777215\\n2023-12-08 00:43:03,944 INFO util.GSet: Computing capacity for map INodeMap\\n2023-12-08 00:43:03,944 INFO util.GSet: VM type       = 64-bit\\n2023-12-08 00:43:03,944 INFO util.GSet: 1.0% max memory 1.7 GB = 17.7 MB\\n2023-12-08 00:43:03,944 INFO util.GSet: capacity      = 2^21 = 2097152 entries\\n2023-12-08 00:43:03,997 INFO namenode.FSDirectory: ACLs enabled? true\\n2023-12-08 00:43:03,997 INFO namenode.FSDirectory: POSIX ACL inheritance enabled? true\\n2023-12-08 00:43:03,997 INFO namenode.FSDirectory: XAttrs enabled? true\\n2023-12-08 00:43:03,998 INFO namenode.NameNode: Caching file names occurring more than 10 times\\n2023-12-08 00:43:04,003 INFO snapshot.SnapshotManager: Loaded config captureOpenFiles: false, skipCaptureAccessTimeOnlyChange: false, snapshotDiffAllowSnapRootDescendant: true, maxSnapshotLimit: 65536\\n2023-12-08 00:43:04,005 INFO snapshot.SnapshotManager: SkipList is disabled\\n2023-12-08 00:43:04,008 INFO util.GSet: Computing capacity for map cachedBlocks\\n2023-12-08 00:43:04,008 INFO util.GSet: VM type       = 64-bit\\n2023-12-08 00:43:04,008 INFO util.GSet: 0.25% max memory 1.7 GB = 4.4 MB\\n2023-12-08 00:43:04,008 INFO util.GSet: capacity      = 2^19 = 524288 entries\\n2023-12-08 00:43:04,014 INFO metrics.TopMetrics: NNTop conf: dfs.namenode.top.window.num.buckets = 10\\n2023-12-08 00:43:04,014 INFO metrics.TopMetrics: NNTop conf: dfs.namenode.top.num.users = 10\\n2023-12-08 00:43:04,014 INFO metrics.TopMetrics: NNTop conf: dfs.namenode.top.windows.minutes = 1,5,25\\n2023-12-08 00:43:04,017 INFO namenode.FSNamesystem: Retry cache on namenode is enabled\\n2023-12-08 00:43:04,017 INFO namenode.FSNamesystem: Retry cache will use 0.03 of total heap and retry cache entry expiry time is 600000 millis\\n2023-12-08 00:43:04,018 INFO util.GSet: Computing capacity for map NameNodeRetryCache\\n2023-12-08 00:43:04,018 INFO util.GSet: VM type       = 64-bit\\n2023-12-08 00:43:04,018 INFO util.GSet: 0.029999999329447746% max memory 1.7 GB = 543.4 KB\\n2023-12-08 00:43:04,018 INFO util.GSet: capacity      = 2^16 = 65536 entries\\n2023-12-08 00:43:04,039 INFO namenode.FSImage: Allocated new BlockPoolId: BP-711491406-10.0.0.2-1701996184033\\n2023-12-08 00:43:04,057 INFO common.Storage: Storage directory /usr/local/hadoop/hdfs/namenode/data has been successfully formatted.\\n2023-12-08 00:43:04,145 INFO namenode.FSImageFormatProtobuf: Saving image file /usr/local/hadoop/hdfs/namenode/data/current/fsimage.ckpt_0000000000000000000 using no compression\\n2023-12-08 00:43:04,222 INFO namenode.FSImageFormatProtobuf: Image file /usr/local/hadoop/hdfs/namenode/data/current/fsimage.ckpt_0000000000000000000 of size 401 bytes saved in 0 seconds .\\n2023-12-08 00:43:04,227 INFO namenode.NNStorageRetentionManager: Going to retain 1 images with txid >= 0\\n2023-12-08 00:43:04,247 INFO namenode.FSNamesystem: Stopping services started for active state\\n2023-12-08 00:43:04,248 INFO namenode.FSNamesystem: Stopping services started for standby state\\n2023-12-08 00:43:04,254 INFO namenode.FSImage: FSImageSaver clean checkpoint: txid=0 when meet shutdown.\\n2023-12-08 00:43:04,255 INFO namenode.NameNode: SHUTDOWN_MSG: \\n/************************************************************\\nSHUTDOWN_MSG: Shutting down NameNode at svr0/10.0.0.2\\n************************************************************/\\n\")"
      ]
     },
     "execution_count": 14,
     "metadata": {},
     "output_type": "execute_result"
    }
   ],
   "source": [
    "name_node.execute(\"/home/ubuntu/hadoop/bin/hdfs namenode -format\")"
   ]
  },
  {
   "cell_type": "code",
   "execution_count": 15,
   "id": "b7a331fa-0397-45cd-b105-2455dc103cbc",
   "metadata": {},
   "outputs": [
    {
     "name": "stdout",
     "output_type": "stream",
     "text": [
      "Starting namenodes on [svr0]\n",
      "svr0: Warning: Permanently added '10.0.0.2' (ECDSA) to the list of known hosts.\n",
      "Starting datanodes\n",
      "10.2.0.2: Warning: Permanently added '10.2.0.2' (ECDSA) to the list of known hosts.\n",
      "10.2.0.2: WARNING: /home/ubuntu/hadoop/logs does not exist. Creating.\n",
      "10.1.0.2: Warning: Permanently added '10.1.0.2' (ECDSA) to the list of known hosts.\n",
      "10.1.0.2: WARNING: /home/ubuntu/hadoop/logs does not exist. Creating.\n",
      "Starting secondary namenodes [svr0]\n"
     ]
    },
    {
     "data": {
      "text/plain": [
       "(\"Starting namenodes on [svr0]\\nsvr0: Warning: Permanently added '10.0.0.2' (ECDSA) to the list of known hosts.\\r\\nStarting datanodes\\n10.2.0.2: Warning: Permanently added '10.2.0.2' (ECDSA) to the list of known hosts.\\r\\n10.2.0.2: WARNING: /home/ubuntu/hadoop/logs does not exist. Creating.\\n10.1.0.2: Warning: Permanently added '10.1.0.2' (ECDSA) to the list of known hosts.\\r\\n10.1.0.2: WARNING: /home/ubuntu/hadoop/logs does not exist. Creating.\\nStarting secondary namenodes [svr0]\\n\",\n",
       " '')"
      ]
     },
     "execution_count": 15,
     "metadata": {},
     "output_type": "execute_result"
    }
   ],
   "source": [
    "name_node.execute(\"/home/ubuntu/hadoop/sbin/start-dfs.sh\")"
   ]
  },
  {
   "cell_type": "code",
   "execution_count": 16,
   "id": "1ecedd0e-5a93-488c-b172-af49f6b03a1d",
   "metadata": {},
   "outputs": [
    {
     "name": "stdout",
     "output_type": "stream",
     "text": [
      "Starting resourcemanager\n",
      "Starting nodemanagers\n"
     ]
    },
    {
     "data": {
      "text/plain": [
       "('Starting resourcemanager\\nStarting nodemanagers\\n', '')"
      ]
     },
     "execution_count": 16,
     "metadata": {},
     "output_type": "execute_result"
    }
   ],
   "source": [
    "name_node.execute(\"/home/ubuntu/hadoop/sbin/start-yarn.sh\")"
   ]
  },
  {
   "cell_type": "code",
   "execution_count": null,
   "id": "a94514e3-84f0-43ba-9796-5dccb1df9031",
   "metadata": {},
   "outputs": [],
   "source": []
  }
 ],
 "metadata": {
  "kernelspec": {
   "display_name": "Python 3 (ipykernel)",
   "language": "python",
   "name": "python3"
  },
  "language_info": {
   "codemirror_mode": {
    "name": "ipython",
    "version": 3
   },
   "file_extension": ".py",
   "mimetype": "text/x-python",
   "name": "python",
   "nbconvert_exporter": "python",
   "pygments_lexer": "ipython3",
   "version": "3.10.6"
  }
 },
 "nbformat": 4,
 "nbformat_minor": 5
}
