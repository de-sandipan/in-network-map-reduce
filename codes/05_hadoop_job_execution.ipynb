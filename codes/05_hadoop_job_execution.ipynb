{
 "cells": [
  {
   "cell_type": "code",
   "execution_count": 29,
   "id": "ba70aa3b-4cd9-4438-99f3-0eac7efdad7f",
   "metadata": {},
   "outputs": [],
   "source": [
    "from fabrictestbed_extensions.fablib.fablib import FablibManager as fablib_manager\n",
    "fablib = fablib_manager()"
   ]
  },
  {
   "cell_type": "code",
   "execution_count": 30,
   "id": "5c97dbe5-f6b8-40fb-b09b-679e7707e28b",
   "metadata": {},
   "outputs": [],
   "source": [
    "slice = fablib.get_slice(name=\"hadoop-cluster-icdm\")"
   ]
  },
  {
   "cell_type": "code",
   "execution_count": 31,
   "id": "2511b022-133f-4d2c-a237-e695498147cf",
   "metadata": {},
   "outputs": [],
   "source": [
    "name_node = slice.get_node(name='svr0')"
   ]
  },
  {
   "cell_type": "code",
   "execution_count": 32,
   "id": "5011cc51-8da5-4db3-aab5-aac082fc3c9f",
   "metadata": {},
   "outputs": [
    {
     "data": {
      "text/plain": [
       "('', '')"
      ]
     },
     "execution_count": 32,
     "metadata": {},
     "output_type": "execute_result"
    }
   ],
   "source": [
    "name_node.execute(\"mkdir /home/ubuntu/local_files\")\n",
    "name_node.execute(\"mkdir /home/ubuntu/src_codes\")"
   ]
  },
  {
   "cell_type": "code",
   "execution_count": 33,
   "id": "c9a98a6f-3a38-4e98-9edb-d133cd974b14",
   "metadata": {},
   "outputs": [
    {
     "data": {
      "text/plain": [
       "<SFTPAttributes: [ size=523 uid=1000 gid=1000 mode=0o100664 atime=1701996509 mtime=1701996509 ]>"
      ]
     },
     "execution_count": 33,
     "metadata": {},
     "output_type": "execute_result"
    }
   ],
   "source": [
    "name_node.upload_file(\"./local_files/pg100.txt\", \"/home/ubuntu/local_files/pg100.txt\")\n",
    "name_node.upload_file(\"./src_codes/mapper.py\", \"/home/ubuntu/src_codes/mapper.py\")\n",
    "name_node.upload_file(\"./src_codes/reducer.py\", \"/home/ubuntu/src_codes/reducer.py\")"
   ]
  },
  {
   "cell_type": "code",
   "execution_count": 34,
   "id": "7cc6e23d-54b0-4b42-a950-76c0017babb4",
   "metadata": {},
   "outputs": [
    {
     "data": {
      "text/plain": [
       "('', '')"
      ]
     },
     "execution_count": 34,
     "metadata": {},
     "output_type": "execute_result"
    }
   ],
   "source": [
    "name_node.execute(\"chmod 777 /home/ubuntu/src_codes/mapper.py\")\n",
    "name_node.execute(\"chmod 777 /home/ubuntu/src_codes/reducer.py\")"
   ]
  },
  {
   "cell_type": "code",
   "execution_count": 35,
   "id": "a44a7f05-24ba-4476-8418-a3ee7d41dd00",
   "metadata": {},
   "outputs": [
    {
     "data": {
      "text/plain": [
       "('', '')"
      ]
     },
     "execution_count": 35,
     "metadata": {},
     "output_type": "execute_result"
    }
   ],
   "source": [
    "name_node.execute(\"/home/ubuntu/hadoop/bin/hdfs dfs -ls /\")"
   ]
  },
  {
   "cell_type": "code",
   "execution_count": 36,
   "id": "9f482060-6109-4104-8a2d-c0854e854e48",
   "metadata": {},
   "outputs": [
    {
     "data": {
      "text/plain": [
       "('', '')"
      ]
     },
     "execution_count": 36,
     "metadata": {},
     "output_type": "execute_result"
    }
   ],
   "source": [
    "name_node.execute(\"/home/ubuntu/hadoop/bin/hdfs dfs -mkdir -p /hadoop_files/word_count_exec_1/\")"
   ]
  },
  {
   "cell_type": "code",
   "execution_count": 37,
   "id": "49805eab-f32f-45b6-bf20-65d6a4ba2c1c",
   "metadata": {},
   "outputs": [
    {
     "data": {
      "text/plain": [
       "('', '')"
      ]
     },
     "execution_count": 37,
     "metadata": {},
     "output_type": "execute_result"
    }
   ],
   "source": [
    "name_node.execute(\"/home/ubuntu/hadoop/bin/hdfs dfs -copyFromLocal /home/ubuntu/local_files/pg100.txt /hadoop_files/word_count_exec_1/input\")"
   ]
  },
  {
   "cell_type": "code",
   "execution_count": 38,
   "id": "f5091829-b125-4af8-9198-213c8e893e70",
   "metadata": {},
   "outputs": [
    {
     "name": "stdout",
     "output_type": "stream",
     "text": [
      "Found 1 items\n",
      "-rw-r--r--   2 ubuntu supergroup    5442315 2023-12-08 00:49 /hadoop_files/word_count_exec_1/input\n"
     ]
    },
    {
     "data": {
      "text/plain": [
       "('Found 1 items\\n-rw-r--r--   2 ubuntu supergroup    5442315 2023-12-08 00:49 /hadoop_files/word_count_exec_1/input\\n',\n",
       " '')"
      ]
     },
     "execution_count": 38,
     "metadata": {},
     "output_type": "execute_result"
    }
   ],
   "source": [
    "name_node.execute(\"/home/ubuntu/hadoop/bin/hdfs dfs -ls /hadoop_files/word_count_exec_1/\")"
   ]
  },
  {
   "cell_type": "code",
   "execution_count": 39,
   "id": "16c05828-f039-4b65-8ecd-7b2426fea844",
   "metadata": {},
   "outputs": [
    {
     "name": "stdout",
     "output_type": "stream",
     "text": [
      "packageJobJar: [/home/ubuntu/src_codes/mapper.py, /home/ubuntu/src_codes/reducer.py] [/home/ubuntu/hadoop/share/hadoop/tools/lib/hadoop-streaming-3.3.6.jar] /tmp/streamjob8596983569384210224.jar tmpDir=null\n",
      "\u001b[31m 2023-12-08 00:49:51,766 WARN streaming.StreamJob: -file option is deprecated, please use generic option -files instead.\n",
      " \u001b[0m\u001b[31m 2023-12-08 00:49:52,437 INFO client.DefaultNoHARMFailoverProxyProvider: Connecting to ResourceManager at /10.0.0.2:8032\n",
      " \u001b[0m\u001b[31m 2023-12-08 00:49:52,588 INFO client.DefaultNoHARMFailoverProxyProvider: Connecting to ResourceManager at /10.0.0.2:8032\n",
      " \u001b[0m\u001b[31m 2023-12-08 00:49:52,795 INFO mapreduce.JobResourceUploader: Disabling Erasure Coding for path: /tmp/hadoop-yarn/staging/ubuntu/.staging/job_1701996200590_0001\n",
      " \u001b[0m\u001b[31m 2023-12-08 00:49:53,128 INFO mapred.FileInputFormat: Total input files to process : 1\n",
      " \u001b[0m\u001b[31m 2023-12-08 00:49:53,187 INFO mapreduce.JobSubmitter: number of splits:2\n",
      " \u001b[0m\u001b[31m 2023-12-08 00:49:53,287 INFO mapreduce.JobSubmitter: Submitting tokens for job: job_1701996200590_0001\n",
      "2023-12-08 00:49:53,287 INFO mapreduce.JobSubmitter: Executing with tokens: []\n",
      " \u001b[0m\u001b[31m 2023-12-08 00:49:53,434 INFO conf.Configuration: resource-types.xml not found\n",
      " \u001b[0m\u001b[31m 2023-12-08 00:49:53,434 INFO resource.ResourceUtils: Unable to find 'resource-types.xml'.\n",
      " \u001b[0m\u001b[31m 2023-12-08 00:49:53,630 INFO impl.YarnClientImpl: Submitted application application_1701996200590_0001\n",
      " \u001b[0m\u001b[31m 2023-12-08 00:49:53,671 INFO mapreduce.Job: The url to track the job: http://svr0:8088/proxy/application_1701996200590_0001/\n",
      " \u001b[0m\u001b[31m 2023-12-08 00:49:53,672 INFO mapreduce.Job: Running job: job_1701996200590_0001\n",
      " \u001b[0m\u001b[31m 2023-12-08 00:49:59,742 INFO mapreduce.Job: Job job_1701996200590_0001 running in uber mode : false\n",
      " \u001b[0m\u001b[31m 2023-12-08 00:49:59,742 INFO mapreduce.Job:  map 0% reduce 0%\n",
      " \u001b[0m\u001b[31m 2023-12-08 00:50:07,799 INFO mapreduce.Job:  map 100% reduce 0%\n",
      " \u001b[0m\u001b[31m 2023-12-08 00:50:12,821 INFO mapreduce.Job:  map 100% reduce 100%\n",
      " \u001b[0m\u001b[31m 2023-12-08 00:50:12,827 INFO mapreduce.Job: Job job_1701996200590_0001 completed successfully\n",
      " \u001b[0m\u001b[31m 2023-12-08 00:50:12,893 INFO mapreduce.Job: Counters: 54\n",
      "\tFile System Counters\n",
      "\t\tFILE: Number of bytes read=9001141\n",
      "\t\tFILE: Number of bytes written=18841714\n",
      "\t\tFILE: Number of read operations=0\n",
      "\t\tFILE: Number of large read operations=0\n",
      "\t\tFILE: Number of write operations=0\n",
      "\t\tHDFS: Number of bytes read=5446629\n",
      "\t\tHDFS: Number of bytes written=377302\n",
      "\t\tHDFS: Number of read operations=11\n",
      "\t\tHDFS: Number of large read operations=0\n",
      "\t\tHDFS: Number of write operations=2\n",
      "\t\tHDFS: Number of bytes read erasure-coded=0\n",
      "\tJob Counters \n",
      "\t\tLaunched map tasks=2\n",
      "\t\tLaunched reduce tasks=1\n",
      "\t\tData-local map tasks=2\n",
      "\t\tTotal time spent by all maps in occupied slots (ms)=11235\n",
      "\t\tTotal time spent by all reduces in occupied slots (ms)=2870\n",
      "\t\tTotal time spent by all map tasks (ms)=11235\n",
      "\t\tTotal time spent by all reduce tasks (ms)=2870\n",
      "\t\tTotal vcore-milliseconds taken by all map tasks=11235\n",
      "\t\tTotal vcore-milliseconds taken by all reduce tasks=2870\n",
      "\t\tTotal megabyte-milliseconds taken by all map tasks=11504640\n",
      "\t\tTotal megabyte-milliseconds taken by all reduce tasks=2938880\n",
      "\tMap-Reduce Framework\n",
      "\t\tMap input records=196386\n",
      "\t\tMap output records=966403\n",
      "\t\tMap output bytes=7068329\n",
      "\t\tMap output materialized bytes=9001147\n",
      "\t\tInput split bytes=218\n",
      "\t\tCombine input records=0\n",
      "\t\tCombine output records=0\n",
      "\t\tReduce input groups=33511\n",
      "\t\tReduce shuffle bytes=9001147\n",
      "\t\tReduce input records=966403\n",
      "\t\tReduce output records=33511\n",
      "\t\tSpilled Records=1932806\n",
      "\t\tShuffled Maps =2\n",
      "\t\tFailed Shuffles=0\n",
      "\t\tMerged Map outputs=2\n",
      "\t\tGC time elapsed (ms)=250\n",
      "\t\tCPU time spent (ms)=4730\n",
      "\t\tPhysical memory (bytes) snapshot=768872448\n",
      "\t\tVirtual memory (bytes) snapshot=7668809728\n",
      "\t\tTotal committed heap usage (bytes)=715128832\n",
      "\t\tPeak Map Physical memory (bytes)=261242880\n",
      "\t\tPeak Map Virtual memory (bytes)=2554474496\n",
      "\t\tPeak Reduce Physical memory (bytes)=249393152\n",
      "\t\tPeak Reduce Virtual memory (bytes)=2563309568\n",
      "\tShuffle Errors\n",
      "\t\tBAD_ID=0\n",
      "\t\tCONNECTION=0\n",
      "\t\tIO_ERROR=0\n",
      "\t\tWRONG_LENGTH=0\n",
      "\t\tWRONG_MAP=0\n",
      "\t\tWRONG_REDUCE=0\n",
      "\tFile Input Format Counters \n",
      "\t\tBytes Read=5446411\n",
      "\tFile Output Format Counters \n",
      "\t\tBytes Written=377302\n",
      "2023-12-08 00:50:12,893 INFO streaming.StreamJob: Output directory: /hadoop_files/word_count_exec_1/output_1\n",
      " \u001b[0m"
     ]
    },
    {
     "data": {
      "text/plain": [
       "('packageJobJar: [/home/ubuntu/src_codes/mapper.py, /home/ubuntu/src_codes/reducer.py] [/home/ubuntu/hadoop/share/hadoop/tools/lib/hadoop-streaming-3.3.6.jar] /tmp/streamjob8596983569384210224.jar tmpDir=null\\n',\n",
       " \"2023-12-08 00:49:51,766 WARN streaming.StreamJob: -file option is deprecated, please use generic option -files instead.\\n2023-12-08 00:49:52,437 INFO client.DefaultNoHARMFailoverProxyProvider: Connecting to ResourceManager at /10.0.0.2:8032\\n2023-12-08 00:49:52,588 INFO client.DefaultNoHARMFailoverProxyProvider: Connecting to ResourceManager at /10.0.0.2:8032\\n2023-12-08 00:49:52,795 INFO mapreduce.JobResourceUploader: Disabling Erasure Coding for path: /tmp/hadoop-yarn/staging/ubuntu/.staging/job_1701996200590_0001\\n2023-12-08 00:49:53,128 INFO mapred.FileInputFormat: Total input files to process : 1\\n2023-12-08 00:49:53,187 INFO mapreduce.JobSubmitter: number of splits:2\\n2023-12-08 00:49:53,287 INFO mapreduce.JobSubmitter: Submitting tokens for job: job_1701996200590_0001\\n2023-12-08 00:49:53,287 INFO mapreduce.JobSubmitter: Executing with tokens: []\\n2023-12-08 00:49:53,434 INFO conf.Configuration: resource-types.xml not found\\n2023-12-08 00:49:53,434 INFO resource.ResourceUtils: Unable to find 'resource-types.xml'.\\n2023-12-08 00:49:53,630 INFO impl.YarnClientImpl: Submitted application application_1701996200590_0001\\n2023-12-08 00:49:53,671 INFO mapreduce.Job: The url to track the job: http://svr0:8088/proxy/application_1701996200590_0001/\\n2023-12-08 00:49:53,672 INFO mapreduce.Job: Running job: job_1701996200590_0001\\n2023-12-08 00:49:59,742 INFO mapreduce.Job: Job job_1701996200590_0001 running in uber mode : false\\n2023-12-08 00:49:59,742 INFO mapreduce.Job:  map 0% reduce 0%\\n2023-12-08 00:50:07,799 INFO mapreduce.Job:  map 100% reduce 0%\\n2023-12-08 00:50:12,821 INFO mapreduce.Job:  map 100% reduce 100%\\n2023-12-08 00:50:12,827 INFO mapreduce.Job: Job job_1701996200590_0001 completed successfully\\n2023-12-08 00:50:12,893 INFO mapreduce.Job: Counters: 54\\n\\tFile System Counters\\n\\t\\tFILE: Number of bytes read=9001141\\n\\t\\tFILE: Number of bytes written=18841714\\n\\t\\tFILE: Number of read operations=0\\n\\t\\tFILE: Number of large read operations=0\\n\\t\\tFILE: Number of write operations=0\\n\\t\\tHDFS: Number of bytes read=5446629\\n\\t\\tHDFS: Number of bytes written=377302\\n\\t\\tHDFS: Number of read operations=11\\n\\t\\tHDFS: Number of large read operations=0\\n\\t\\tHDFS: Number of write operations=2\\n\\t\\tHDFS: Number of bytes read erasure-coded=0\\n\\tJob Counters \\n\\t\\tLaunched map tasks=2\\n\\t\\tLaunched reduce tasks=1\\n\\t\\tData-local map tasks=2\\n\\t\\tTotal time spent by all maps in occupied slots (ms)=11235\\n\\t\\tTotal time spent by all reduces in occupied slots (ms)=2870\\n\\t\\tTotal time spent by all map tasks (ms)=11235\\n\\t\\tTotal time spent by all reduce tasks (ms)=2870\\n\\t\\tTotal vcore-milliseconds taken by all map tasks=11235\\n\\t\\tTotal vcore-milliseconds taken by all reduce tasks=2870\\n\\t\\tTotal megabyte-milliseconds taken by all map tasks=11504640\\n\\t\\tTotal megabyte-milliseconds taken by all reduce tasks=2938880\\n\\tMap-Reduce Framework\\n\\t\\tMap input records=196386\\n\\t\\tMap output records=966403\\n\\t\\tMap output bytes=7068329\\n\\t\\tMap output materialized bytes=9001147\\n\\t\\tInput split bytes=218\\n\\t\\tCombine input records=0\\n\\t\\tCombine output records=0\\n\\t\\tReduce input groups=33511\\n\\t\\tReduce shuffle bytes=9001147\\n\\t\\tReduce input records=966403\\n\\t\\tReduce output records=33511\\n\\t\\tSpilled Records=1932806\\n\\t\\tShuffled Maps =2\\n\\t\\tFailed Shuffles=0\\n\\t\\tMerged Map outputs=2\\n\\t\\tGC time elapsed (ms)=250\\n\\t\\tCPU time spent (ms)=4730\\n\\t\\tPhysical memory (bytes) snapshot=768872448\\n\\t\\tVirtual memory (bytes) snapshot=7668809728\\n\\t\\tTotal committed heap usage (bytes)=715128832\\n\\t\\tPeak Map Physical memory (bytes)=261242880\\n\\t\\tPeak Map Virtual memory (bytes)=2554474496\\n\\t\\tPeak Reduce Physical memory (bytes)=249393152\\n\\t\\tPeak Reduce Virtual memory (bytes)=2563309568\\n\\tShuffle Errors\\n\\t\\tBAD_ID=0\\n\\t\\tCONNECTION=0\\n\\t\\tIO_ERROR=0\\n\\t\\tWRONG_LENGTH=0\\n\\t\\tWRONG_MAP=0\\n\\t\\tWRONG_REDUCE=0\\n\\tFile Input Format Counters \\n\\t\\tBytes Read=5446411\\n\\tFile Output Format Counters \\n\\t\\tBytes Written=377302\\n2023-12-08 00:50:12,893 INFO streaming.StreamJob: Output directory: /hadoop_files/word_count_exec_1/output_1\\n\")"
      ]
     },
     "execution_count": 39,
     "metadata": {},
     "output_type": "execute_result"
    }
   ],
   "source": [
    "name_node.execute(\"/home/ubuntu/hadoop/bin/mapred streaming \\\n",
    "-file /home/ubuntu/src_codes/mapper.py \\\n",
    "-mapper /home/ubuntu/src_codes/mapper.py \\\n",
    "-file /home/ubuntu/src_codes/reducer.py \\\n",
    "-reducer /home/ubuntu/src_codes/reducer.py \\\n",
    "-input /hadoop_files/word_count_exec_1/input \\\n",
    "-output /hadoop_files/word_count_exec_1/output_1\")"
   ]
  },
  {
   "cell_type": "code",
   "execution_count": 40,
   "id": "c014ae04-3238-4f64-a53e-a2e9b79c963c",
   "metadata": {},
   "outputs": [
    {
     "name": "stdout",
     "output_type": "stream",
     "text": [
      "Found 2 items\n",
      "-rw-r--r--   2 ubuntu supergroup    5442315 2023-12-08 00:49 /hadoop_files/word_count_exec_1/input\n",
      "drwxr-xr-x   - ubuntu supergroup          0 2023-12-08 00:50 /hadoop_files/word_count_exec_1/output_1\n"
     ]
    },
    {
     "data": {
      "text/plain": [
       "('Found 2 items\\n-rw-r--r--   2 ubuntu supergroup    5442315 2023-12-08 00:49 /hadoop_files/word_count_exec_1/input\\ndrwxr-xr-x   - ubuntu supergroup          0 2023-12-08 00:50 /hadoop_files/word_count_exec_1/output_1\\n',\n",
       " '')"
      ]
     },
     "execution_count": 40,
     "metadata": {},
     "output_type": "execute_result"
    }
   ],
   "source": [
    "name_node.execute(\"/home/ubuntu/hadoop/bin/hdfs dfs -ls /hadoop_files/word_count_exec_1/\")"
   ]
  },
  {
   "cell_type": "code",
   "execution_count": 41,
   "id": "f84ba3d8-aa8e-4a72-9e7c-2257cda926c4",
   "metadata": {},
   "outputs": [
    {
     "name": "stdout",
     "output_type": "stream",
     "text": [
      "Found 2 items\n",
      "-rw-r--r--   2 ubuntu supergroup          0 2023-12-08 00:50 /hadoop_files/word_count_exec_1/output_1/_SUCCESS\n",
      "-rw-r--r--   2 ubuntu supergroup     377302 2023-12-08 00:50 /hadoop_files/word_count_exec_1/output_1/part-00000\n"
     ]
    },
    {
     "data": {
      "text/plain": [
       "('Found 2 items\\n-rw-r--r--   2 ubuntu supergroup          0 2023-12-08 00:50 /hadoop_files/word_count_exec_1/output_1/_SUCCESS\\n-rw-r--r--   2 ubuntu supergroup     377302 2023-12-08 00:50 /hadoop_files/word_count_exec_1/output_1/part-00000\\n',\n",
       " '')"
      ]
     },
     "execution_count": 41,
     "metadata": {},
     "output_type": "execute_result"
    }
   ],
   "source": [
    "name_node.execute(\"/home/ubuntu/hadoop/bin/hdfs dfs -ls /hadoop_files/word_count_exec_1/output_1/\")"
   ]
  },
  {
   "cell_type": "code",
   "execution_count": 42,
   "id": "c18605f9-2603-4286-8807-d1f35be6a942",
   "metadata": {},
   "outputs": [
    {
     "name": "stdout",
     "output_type": "stream",
     "text": [
      "1\t34\n",
      "10\t2\n",
      "100\t3\n",
      "1000\t1\n",
      "1004\t1\n",
      "1009\t1\n",
      "101\t1\n",
      "1012\t1\n",
      "1016\t1\n",
      "102\t1\n",
      "1020\t1\n",
      "1024\t1\n",
      "1028\t1\n",
      "103\t1\n",
      "1033\t1\n",
      "1036\t1\n",
      "104\t2\n",
      "1040\t1\n",
      "1044\t1\n",
      "1049\t1\n",
      "105\t1\n",
      "1053\t1\n",
      "1057\t1\n",
      "106\t1\n",
      "1060\t1\n",
      "1065\t1\n",
      "1069\t1\n",
      "107\t1\n",
      "1072\t1\n",
      "1078\t1\n",
      "108\t2\n",
      "1081\t1\n",
      "1085\t1\n",
      "1088\t1\n",
      "109\t1\n",
      "1093\t1\n",
      "1096\t1\n",
      "11\t1\n",
      "110\t1\n",
      "1100\t1\n",
      "1105\t1\n",
      "1108\t1\n",
      "111\t1\n",
      "1112\t1\n",
      "1116\t1\n",
      "112\t2\n",
      "1120\t1\n",
      "1124\t1\n",
      "1129\t1\n",
      "113\t1\n",
      "1132\t1\n",
      "1136\t1\n",
      "114\t1\n",
      "1141\t1\n",
      "1144\t1\n",
      "1148\t1\n",
      "115\t1\n",
      "1152\t1\n",
      "1156\t1\n",
      "116\t2\n",
      "1160\t1\n",
      "1164\t1\n",
      "1168\t1\n",
      "117\t1\n",
      "1172\t1\n",
      "118\t1\n",
      "1180\t1\n",
      "1184\t1\n",
      "1189\t1\n",
      "119\t1\n",
      "1192\t1\n",
      "12\t2\n",
      "120\t2\n",
      "121\t1\n",
      "122\t1\n",
      "123\t1\n",
      "124\t2\n",
      "125\t1\n",
      "126\t1\n",
      "127\t2\n",
      "128\t1\n",
      "129\t1\n",
      "13\t1\n",
      "130\t1\n",
      "131\t1\n",
      "132\t2\n",
      "133\t1\n",
      "134\t1\n",
      "135\t1\n",
      "136\t2\n",
      "137\t1\n",
      "138\t1\n",
      "139\t2\n",
      "14\t1\n",
      "140\t1\n",
      "141\t1\n",
      "142\t1\n",
      "143\t1\n",
      "144\t2\n",
      "145\t1\n",
      "146\t1\n",
      "147\t1\n",
      "148\t2\n",
      "149\t1\n",
      "15\t1\n",
      "150\t1\n",
      "1500\t1\n",
      "151\t2\n",
      "152\t1\n",
      "153\t1\n",
      "154\t1\n",
      "156\t1\n",
      "16\t2\n",
      "160\t1\n",
      "164\t1\n",
      "168\t1\n",
      "17\t1\n",
      "172\t1\n",
      "176\t1\n",
      "18\t2\n",
      "180\t1\n",
      "184\t1\n",
      "188\t1\n",
      "19\t1\n",
      "192\t1\n",
      "196\t1\n",
      "1994\t1\n",
      "1a\t1\n",
      "1b\t1\n",
      "1c\t2\n",
      "1d\t1\n",
      "1e\t2\n",
      "1e1\t5\n",
      "1e2\t1\n",
      "1e3\t1\n",
      "1e4\t1\n",
      "1e5\t1\n",
      "1e6\t1\n",
      "1e7\t3\n",
      "1e8\t4\n",
      "1e9\t3\n",
      "1f\t1\n",
      "1f1\t1\n",
      "1f2\t1\n",
      "1f3\t5\n",
      "1f4\t1\n",
      "1f5\t1\n",
      "1f6\t1\n",
      "2\t25\n",
      "20\t3\n",
      "200\t1\n",
      "2001\t1\n",
      "2023\t1\n",
      "204\t1\n",
      "208\t1\n",
      "21\t1\n",
      "212\t1\n",
      "216\t1\n",
      "22\t1\n",
      "220\t1\n",
      "224\t1\n",
      "228\t1\n",
      "23\t1\n",
      "232\t1\n",
      "236\t1\n",
      "239\t"
     ]
    },
    {
     "data": {
      "text/plain": [
       "('1\\t34\\n10\\t2\\n100\\t3\\n1000\\t1\\n1004\\t1\\n1009\\t1\\n101\\t1\\n1012\\t1\\n1016\\t1\\n102\\t1\\n1020\\t1\\n1024\\t1\\n1028\\t1\\n103\\t1\\n1033\\t1\\n1036\\t1\\n104\\t2\\n1040\\t1\\n1044\\t1\\n1049\\t1\\n105\\t1\\n1053\\t1\\n1057\\t1\\n106\\t1\\n1060\\t1\\n1065\\t1\\n1069\\t1\\n107\\t1\\n1072\\t1\\n1078\\t1\\n108\\t2\\n1081\\t1\\n1085\\t1\\n1088\\t1\\n109\\t1\\n1093\\t1\\n1096\\t1\\n11\\t1\\n110\\t1\\n1100\\t1\\n1105\\t1\\n1108\\t1\\n111\\t1\\n1112\\t1\\n1116\\t1\\n112\\t2\\n1120\\t1\\n1124\\t1\\n1129\\t1\\n113\\t1\\n1132\\t1\\n1136\\t1\\n114\\t1\\n1141\\t1\\n1144\\t1\\n1148\\t1\\n115\\t1\\n1152\\t1\\n1156\\t1\\n116\\t2\\n1160\\t1\\n1164\\t1\\n1168\\t1\\n117\\t1\\n1172\\t1\\n118\\t1\\n1180\\t1\\n1184\\t1\\n1189\\t1\\n119\\t1\\n1192\\t1\\n12\\t2\\n120\\t2\\n121\\t1\\n122\\t1\\n123\\t1\\n124\\t2\\n125\\t1\\n126\\t1\\n127\\t2\\n128\\t1\\n129\\t1\\n13\\t1\\n130\\t1\\n131\\t1\\n132\\t2\\n133\\t1\\n134\\t1\\n135\\t1\\n136\\t2\\n137\\t1\\n138\\t1\\n139\\t2\\n14\\t1\\n140\\t1\\n141\\t1\\n142\\t1\\n143\\t1\\n144\\t2\\n145\\t1\\n146\\t1\\n147\\t1\\n148\\t2\\n149\\t1\\n15\\t1\\n150\\t1\\n1500\\t1\\n151\\t2\\n152\\t1\\n153\\t1\\n154\\t1\\n156\\t1\\n16\\t2\\n160\\t1\\n164\\t1\\n168\\t1\\n17\\t1\\n172\\t1\\n176\\t1\\n18\\t2\\n180\\t1\\n184\\t1\\n188\\t1\\n19\\t1\\n192\\t1\\n196\\t1\\n1994\\t1\\n1a\\t1\\n1b\\t1\\n1c\\t2\\n1d\\t1\\n1e\\t2\\n1e1\\t5\\n1e2\\t1\\n1e3\\t1\\n1e4\\t1\\n1e5\\t1\\n1e6\\t1\\n1e7\\t3\\n1e8\\t4\\n1e9\\t3\\n1f\\t1\\n1f1\\t1\\n1f2\\t1\\n1f3\\t5\\n1f4\\t1\\n1f5\\t1\\n1f6\\t1\\n2\\t25\\n20\\t3\\n200\\t1\\n2001\\t1\\n2023\\t1\\n204\\t1\\n208\\t1\\n21\\t1\\n212\\t1\\n216\\t1\\n22\\t1\\n220\\t1\\n224\\t1\\n228\\t1\\n23\\t1\\n232\\t1\\n236\\t1\\n239\\t',\n",
       " '')"
      ]
     },
     "execution_count": 42,
     "metadata": {},
     "output_type": "execute_result"
    }
   ],
   "source": [
    "name_node.execute(\"/home/ubuntu/hadoop/bin/hdfs dfs -head /hadoop_files/word_count_exec_1/output_1/part-00000\")"
   ]
  },
  {
   "cell_type": "code",
   "execution_count": null,
   "id": "af4cb9ae-0e7a-44b8-bb49-a23170518785",
   "metadata": {},
   "outputs": [],
   "source": []
  }
 ],
 "metadata": {
  "kernelspec": {
   "display_name": "Python 3 (ipykernel)",
   "language": "python",
   "name": "python3"
  },
  "language_info": {
   "codemirror_mode": {
    "name": "ipython",
    "version": 3
   },
   "file_extension": ".py",
   "mimetype": "text/x-python",
   "name": "python",
   "nbconvert_exporter": "python",
   "pygments_lexer": "ipython3",
   "version": "3.10.6"
  }
 },
 "nbformat": 4,
 "nbformat_minor": 5
}
