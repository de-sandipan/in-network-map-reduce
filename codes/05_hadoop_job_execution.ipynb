{
 "cells": [
  {
   "cell_type": "code",
   "execution_count": 1,
   "id": "ba70aa3b-4cd9-4438-99f3-0eac7efdad7f",
   "metadata": {},
   "outputs": [],
   "source": [
    "from fabrictestbed_extensions.fablib.fablib import FablibManager as fablib_manager\n",
    "fablib = fablib_manager()"
   ]
  },
  {
   "cell_type": "code",
   "execution_count": 2,
   "id": "5c97dbe5-f6b8-40fb-b09b-679e7707e28b",
   "metadata": {},
   "outputs": [],
   "source": [
    "slice = fablib.get_slice(name=\"hadoop-cluster-ycos\")"
   ]
  },
  {
   "cell_type": "code",
   "execution_count": 3,
   "id": "2511b022-133f-4d2c-a237-e695498147cf",
   "metadata": {},
   "outputs": [],
   "source": [
    "name_node = slice.get_node(name='svr0')"
   ]
  },
  {
   "cell_type": "code",
   "execution_count": 4,
   "id": "5011cc51-8da5-4db3-aab5-aac082fc3c9f",
   "metadata": {},
   "outputs": [
    {
     "data": {
      "text/plain": [
       "('', '')"
      ]
     },
     "execution_count": 4,
     "metadata": {},
     "output_type": "execute_result"
    }
   ],
   "source": [
    "name_node.execute(\"mkdir /home/ubuntu/local_files\")\n",
    "name_node.execute(\"mkdir /home/ubuntu/src_codes\")"
   ]
  },
  {
   "cell_type": "code",
   "execution_count": 5,
   "id": "c9a98a6f-3a38-4e98-9edb-d133cd974b14",
   "metadata": {},
   "outputs": [
    {
     "data": {
      "text/plain": [
       "<SFTPAttributes: [ size=554 uid=1000 gid=1000 mode=0o100664 atime=1700866551 mtime=1700866551 ]>"
      ]
     },
     "execution_count": 5,
     "metadata": {},
     "output_type": "execute_result"
    }
   ],
   "source": [
    "name_node.upload_file(\"/home/fabric/work/hadoop-experiment/auto/local_files/word_count_input\", \"/home/ubuntu/local_files/word_count_input\")\n",
    "name_node.upload_file(\"/home/fabric/work/hadoop-experiment/auto/src_codes/mapper.py\", \"/home/ubuntu/src_codes/mapper.py\")\n",
    "name_node.upload_file(\"/home/fabric/work/hadoop-experiment/auto/src_codes/reducer.py\", \"/home/ubuntu/src_codes/reducer.py\")"
   ]
  },
  {
   "cell_type": "code",
   "execution_count": null,
   "id": "7cc6e23d-54b0-4b42-a950-76c0017babb4",
   "metadata": {},
   "outputs": [],
   "source": []
  },
  {
   "cell_type": "code",
   "execution_count": null,
   "id": "a44a7f05-24ba-4476-8418-a3ee7d41dd00",
   "metadata": {},
   "outputs": [],
   "source": []
  },
  {
   "cell_type": "code",
   "execution_count": null,
   "id": "4eafaf2f-2ff4-4d5b-a3f1-aa964db1a94c",
   "metadata": {},
   "outputs": [],
   "source": [
    "# hdfs dfs -mkdir /hadoop_files\n",
    "# hdfs dfs -ls /hadoop_files\n",
    "# hdfs dfs -ls /hadoop_files/\n",
    "# hdfs dfs -copyFromLocal /home/ubuntu/local_files/word_count_input /hadoop_files/word_count_input\n",
    "# hdfs dfs -ls /hadoop_files/"
   ]
  },
  {
   "cell_type": "code",
   "execution_count": null,
   "id": "040e8b93-2510-4e44-8d27-af03b7b673f6",
   "metadata": {},
   "outputs": [],
   "source": []
  },
  {
   "cell_type": "code",
   "execution_count": null,
   "id": "9f482060-6109-4104-8a2d-c0854e854e48",
   "metadata": {},
   "outputs": [],
   "source": []
  },
  {
   "cell_type": "code",
   "execution_count": null,
   "id": "61b94661-d198-4bd9-8797-b1e182621235",
   "metadata": {},
   "outputs": [],
   "source": [
    "#echo \"This is is a test\" | python3 mapper.py | sort -k1,1 | python3 reducer.py"
   ]
  },
  {
   "cell_type": "code",
   "execution_count": null,
   "id": "d7707f50-74fa-4d43-91ab-209c3a441b4a",
   "metadata": {},
   "outputs": [],
   "source": [
    "# /home/ubuntu/hadoop/bin/mapred streaming \\\n",
    "# -input /hadoop_files/word_count/word_count_input \\\n",
    "# -output /hadoop_files/word_count/word_count_output_1 \\\n",
    "# -file /home/ubuntu/src_codes/mapper.py \\\n",
    "# -mapper /home/ubuntu/src_codes/mapper.py \\\n",
    "# -file /home/ubuntu/src_codes/reducer.py \\\n",
    "# -reducer /home/ubuntu/src_codes/reducer.py\n",
    "\n",
    "# /home/ubuntu/hadoop/bin/mapred streaming \\\n",
    "# -input /hadoop_files/word_count_exec_0/wc_input \\\n",
    "# -output /hadoop_files/word_count_exec_0/wc_output_1 \\\n",
    "# -file /home/ubuntu/src_codes/mapper.py \\\n",
    "# -mapper /home/ubuntu/src_codes/mapper.py \\\n",
    "# -file /home/ubuntu/src_codes/reducer.py \\\n",
    "# -reducer /home/ubuntu/src_codes/reducer.py\n",
    "\n",
    "# /home/ubuntu/hadoop/bin/mapred streaming \\\n",
    "# -input /hadoop_files/word_count/book.txt \\\n",
    "# -output /hadoop_files/word_count/words_in_book \\\n",
    "# -file /home/ubuntu/src_codes/mapper.py \\\n",
    "# -mapper /home/ubuntu/src_codes/mapper.py \\\n",
    "# -file /home/ubuntu/src_codes/reducer.py \\\n",
    "# -reducer /home/ubuntu/src_codes/reducer.py"
   ]
  },
  {
   "cell_type": "code",
   "execution_count": 6,
   "id": "ff3cb26c-3cb3-4c7e-a955-17ec316b18d6",
   "metadata": {},
   "outputs": [],
   "source": [
    "name_node.download_file(\"/home/fabric/work/hadoop-experiment/auto/local_files/a_tale_of_two_cities.txt\", \"/home/ubuntu/local_files/a_tale_of_two_cities.txt\")"
   ]
  },
  {
   "cell_type": "code",
   "execution_count": null,
   "id": "c014ae04-3238-4f64-a53e-a2e9b79c963c",
   "metadata": {},
   "outputs": [],
   "source": []
  }
 ],
 "metadata": {
  "kernelspec": {
   "display_name": "Python 3 (ipykernel)",
   "language": "python",
   "name": "python3"
  },
  "language_info": {
   "codemirror_mode": {
    "name": "ipython",
    "version": 3
   },
   "file_extension": ".py",
   "mimetype": "text/x-python",
   "name": "python",
   "nbconvert_exporter": "python",
   "pygments_lexer": "ipython3",
   "version": "3.10.6"
  }
 },
 "nbformat": 4,
 "nbformat_minor": 5
}
