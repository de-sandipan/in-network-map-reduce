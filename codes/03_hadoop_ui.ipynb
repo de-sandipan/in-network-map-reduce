{
 "cells": [
  {
   "cell_type": "code",
   "execution_count": 1,
   "id": "277e2dde-fcc8-4c64-8598-fb45d86379dd",
   "metadata": {},
   "outputs": [],
   "source": [
    "from fabrictestbed_extensions.fablib.fablib import FablibManager as fablib_manager\n",
    "fablib = fablib_manager()"
   ]
  },
  {
   "cell_type": "code",
   "execution_count": 2,
   "id": "4722144e-71bc-45a9-b219-b04ea2a1e780",
   "metadata": {},
   "outputs": [],
   "source": [
    "slice = fablib.get_slice(name=\"hadoop-cluster-icdm\")"
   ]
  },
  {
   "cell_type": "code",
   "execution_count": 3,
   "id": "bb545105-57ec-479a-90f0-18848e26f1b6",
   "metadata": {},
   "outputs": [
    {
     "name": "stdout",
     "output_type": "stream",
     "text": [
      "ssh  -L 127.0.0.1:9870:127.0.0.1:9870 -i slice_key -F ssh_config ubuntu@2001:400:a100:3030:f816:3eff:feb5:539c\n",
      "ssh  -L 127.0.0.1:8088:10.0.0.2:8088 -i slice_key -F ssh_config ubuntu@2001:400:a100:3030:f816:3eff:feb5:539c\n"
     ]
    }
   ],
   "source": [
    "name_node = slice.get_node(name=\"svr0\")\n",
    "management_ip=f'{name_node.get_username()}@{name_node.get_management_ip()}'\n",
    "\n",
    "print(f'ssh  -L 127.0.0.1:9870:127.0.0.1:9870 -i slice_key -F ssh_config {management_ip}')\n",
    "# print(f'ssh  -L 127.0.0.1:8088:127.0.0.1:8088 -i slice_key -F ssh_config {management_ip}')\n",
    "print(f'ssh  -L 127.0.0.1:8088:10.0.0.2:8088 -i slice_key -F ssh_config {management_ip}')"
   ]
  },
  {
   "cell_type": "code",
   "execution_count": null,
   "id": "cd2f9c42-50fd-4515-9ab2-c451f6cad05a",
   "metadata": {},
   "outputs": [],
   "source": []
  }
 ],
 "metadata": {
  "kernelspec": {
   "display_name": "Python 3 (ipykernel)",
   "language": "python",
   "name": "python3"
  },
  "language_info": {
   "codemirror_mode": {
    "name": "ipython",
    "version": 3
   },
   "file_extension": ".py",
   "mimetype": "text/x-python",
   "name": "python",
   "nbconvert_exporter": "python",
   "pygments_lexer": "ipython3",
   "version": "3.10.6"
  }
 },
 "nbformat": 4,
 "nbformat_minor": 5
}
